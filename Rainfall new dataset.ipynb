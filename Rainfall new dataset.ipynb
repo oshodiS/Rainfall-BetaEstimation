{
  "cells": [
    {
      "cell_type": "markdown",
      "metadata": {
        "id": "1FwtJvLKAJvN"
      },
      "source": [
        "# AI-driven morphoclimatic regional frequency modelling of sub-daily rainfall-extremes\n",
        "**Authors**: Chiara Angileri, Niccolò Marzi, Shola Oshodi"
      ]
    },
    {
      "cell_type": "markdown",
      "metadata": {},
      "source": [
        "**DOUBTS**\n",
        "- Calcolare alpha e beta per ogni stazione con il fit di scipy? Vanno messe due nuove colonne nel dataset? Se c'è una sola osservazione non posso fare il fit => uniforme? (alpha=1, beta=1)\n",
        "- Output: AMS o alpha e beta?\n",
        "- Initial guess? \n",
        "- Alpha e beta predetti per ogni stazione come vanno paragonati con quelli \"veri\"? Intervallo di confidenza sulla media o sui parametri (questo come si calcola) ?\n",
        "- Come si fa inferenza su più distribuzioni? Quali metriche?\n",
        "- 20 epoche e 2 hidden impara come 2 epoche e 0 hidden\n",
        "\n",
        "**TO DO**\n",
        "- provare con solo MAP in input\n",
        "- pca?\n",
        "- nel test ogni stazione ha senso che ci sia una sola volta, tanto l'output sarà sempre lo stesso\n"
      ]
    },
    {
      "cell_type": "markdown",
      "metadata": {
        "id": "czT2UTkzAJvO"
      },
      "source": [
        "# 0. Importing libraries"
      ]
    },
    {
      "cell_type": "code",
      "execution_count": 2,
      "metadata": {
        "id": "e6WKfN3Iq8Wg"
      },
      "outputs": [],
      "source": [
        "colab = False"
      ]
    },
    {
      "cell_type": "code",
      "execution_count": 3,
      "metadata": {
        "id": "b9mHsBc65voY"
      },
      "outputs": [],
      "source": [
        "%%capture\n",
        "if colab:\n",
        "  !pip install fitter\n",
        "  !pip install pydot\n",
        "  !pip install graphviz"
      ]
    },
    {
      "cell_type": "code",
      "execution_count": 4,
      "metadata": {
        "id": "uFw5jQIUAJvP"
      },
      "outputs": [
        {
          "name": "stderr",
          "output_type": "stream",
          "text": [
            "C:\\Users\\chiar\\AppData\\Local\\Temp\\ipykernel_17728\\2467376848.py:1: DeprecationWarning: \n",
            "Pyarrow will become a required dependency of pandas in the next major release of pandas (pandas 3.0),\n",
            "(to allow more performant data types, such as the Arrow string type, and better interoperability with other libraries)\n",
            "but was not found to be installed on your system.\n",
            "If this would cause problems for you,\n",
            "please provide us feedback at https://github.com/pandas-dev/pandas/issues/54466\n",
            "        \n",
            "  import pandas as pd\n"
          ]
        },
        {
          "name": "stdout",
          "output_type": "stream",
          "text": [
            "WARNING:tensorflow:From C:\\Users\\chiar\\AppData\\Local\\Packages\\PythonSoftwareFoundation.Python.3.11_qbz5n2kfra8p0\\LocalCache\\local-packages\\Python311\\site-packages\\keras\\src\\losses.py:2976: The name tf.losses.sparse_softmax_cross_entropy is deprecated. Please use tf.compat.v1.losses.sparse_softmax_cross_entropy instead.\n",
            "\n",
            "WARNING:tensorflow:From C:\\Users\\chiar\\AppData\\Local\\Packages\\PythonSoftwareFoundation.Python.3.11_qbz5n2kfra8p0\\LocalCache\\local-packages\\Python311\\site-packages\\tensorflow_probability\\python\\internal\\backend\\numpy\\_utils.py:48: The name tf.logging.TaskLevelStatusMessage is deprecated. Please use tf.compat.v1.logging.TaskLevelStatusMessage instead.\n",
            "\n",
            "WARNING:tensorflow:From C:\\Users\\chiar\\AppData\\Local\\Packages\\PythonSoftwareFoundation.Python.3.11_qbz5n2kfra8p0\\LocalCache\\local-packages\\Python311\\site-packages\\tensorflow_probability\\python\\internal\\backend\\numpy\\_utils.py:48: The name tf.control_flow_v2_enabled is deprecated. Please use tf.compat.v1.control_flow_v2_enabled instead.\n",
            "\n"
          ]
        }
      ],
      "source": [
        "import pandas as pd\n",
        "import numpy as np\n",
        "from itertools import chain\n",
        "from sklearn.model_selection import train_test_split\n",
        "from matplotlib import pyplot as plt\n",
        "import seaborn as sns\n",
        "from sklearn import metrics\n",
        "\n",
        "\n",
        "from fitter import Fitter\n",
        "import tensorflow as tf\n",
        "from tensorflow import keras\n",
        "from tensorflow.keras import layers\n",
        "import tensorflow_probability as tfp\n",
        "from tensorflow.keras import callbacks\n",
        "from sklearn.preprocessing import MinMaxScaler\n",
        "\n",
        "from scipy import stats\n",
        "\n",
        "if colab:\n",
        "    from pathlib import Path\n",
        "    from google.colab import drive\n",
        "    drive.mount('/content/drive')"
      ]
    },
    {
      "cell_type": "markdown",
      "metadata": {
        "id": "ea-Cd2e9AJvP"
      },
      "source": [
        "# 1. Load and inspect the dataset"
      ]
    },
    {
      "cell_type": "markdown",
      "metadata": {
        "id": "_XRcv7_N5aci"
      },
      "source": [
        "## 1.1. Load data"
      ]
    },
    {
      "cell_type": "code",
      "execution_count": 5,
      "metadata": {
        "id": "rgcbrOtXAJvP"
      },
      "outputs": [
        {
          "name": "stdout",
          "output_type": "stream",
          "text": [
            "Index(['ID', 'Nome', 'HMerit_mean(m)', 'HMerit_stdev(m)', 'Slope_mean(deg)',\n",
            "       'Slope_stdev(deg)', 'Aspect_mean(deg)', 'Aspect_stdev(deg)',\n",
            "       'MinDistAdriaticC_(km)', 'OrogrAdri_mean (m)', 'OrogrAdri_stdev(m)',\n",
            "       'OrogrAdri_max(m)', 'MinDistTirrenicC_(km)', 'OrograTirr_mean(m)',\n",
            "       'OrograTirr_stdev(m)', 'OrograTirr_max(m)', 'MAP(mm)', 'MASnowP(mm)',\n",
            "       'VarClimPT(mm)', 'VarClimSowP(mm)', 'X', 'Y', 'duration[h]', 'AMS',\n",
            "       'mean_IdD', 'loc', 'scale', '99perc', '95perc', '80perc'],\n",
            "      dtype='object')\n"
          ]
        }
      ],
      "source": [
        "if colab:\n",
        "    data_folder = Path.cwd() / \"drive\" / \"MyDrive\" / \"A3I\" / \"data\"\n",
        "    dataset_path = data_folder.joinpath(\"AMS_descritt_noSM_meltD_adim.csv\")\n",
        "    dataset_indexes_test = data_folder.joinpath(\"gumMap_statbench_Gumfit_NEW.csv\")\n",
        "else:\n",
        "    dataset_path = \"data/AMS_descritt_noSM_meltD_adim.csv\"\n",
        "    dataset_indexes_test = \"data/gumMap_statbench_Gumfit_NEW.csv\"\n",
        "\n",
        "df = pd.read_csv(dataset_path, sep=',', encoding='utf-8')\n",
        "df.drop(df.columns[[0]], axis=1, inplace=True)\n",
        "\n",
        "df_indexes_test = pd.read_csv(dataset_indexes_test, sep=',', encoding='utf-8') #dataset used to extract the ids for test\n",
        "\n",
        "print(df.columns)"
      ]
    },
    {
      "cell_type": "code",
      "execution_count": 6,
      "metadata": {},
      "outputs": [
        {
          "data": {
            "text/html": [
              "<div>\n",
              "<style scoped>\n",
              "    .dataframe tbody tr th:only-of-type {\n",
              "        vertical-align: middle;\n",
              "    }\n",
              "\n",
              "    .dataframe tbody tr th {\n",
              "        vertical-align: top;\n",
              "    }\n",
              "\n",
              "    .dataframe thead th {\n",
              "        text-align: right;\n",
              "    }\n",
              "</style>\n",
              "<table border=\"1\" class=\"dataframe\">\n",
              "  <thead>\n",
              "    <tr style=\"text-align: right;\">\n",
              "      <th></th>\n",
              "      <th>ID</th>\n",
              "      <th>Nome</th>\n",
              "      <th>HMerit_mean(m)</th>\n",
              "      <th>HMerit_stdev(m)</th>\n",
              "      <th>Slope_mean(deg)</th>\n",
              "      <th>Slope_stdev(deg)</th>\n",
              "      <th>Aspect_mean(deg)</th>\n",
              "      <th>Aspect_stdev(deg)</th>\n",
              "      <th>MinDistAdriaticC_(km)</th>\n",
              "      <th>OrogrAdri_mean (m)</th>\n",
              "      <th>...</th>\n",
              "      <th>X</th>\n",
              "      <th>Y</th>\n",
              "      <th>duration[h]</th>\n",
              "      <th>AMS</th>\n",
              "      <th>mean_IdD</th>\n",
              "      <th>loc</th>\n",
              "      <th>scale</th>\n",
              "      <th>99perc</th>\n",
              "      <th>95perc</th>\n",
              "      <th>80perc</th>\n",
              "    </tr>\n",
              "  </thead>\n",
              "  <tbody>\n",
              "    <tr>\n",
              "      <th>0</th>\n",
              "      <td>5001</td>\n",
              "      <td>'Abetone'</td>\n",
              "      <td>1319.144154</td>\n",
              "      <td>85.599127</td>\n",
              "      <td>13.342638</td>\n",
              "      <td>4.979222</td>\n",
              "      <td>252.769653</td>\n",
              "      <td>96.036924</td>\n",
              "      <td>134.037400</td>\n",
              "      <td>377.648461</td>\n",
              "      <td>...</td>\n",
              "      <td>633069.81</td>\n",
              "      <td>4890553.68</td>\n",
              "      <td>1</td>\n",
              "      <td>1.221239</td>\n",
              "      <td>28.250000</td>\n",
              "      <td>0.890564</td>\n",
              "      <td>0.184415</td>\n",
              "      <td>1.738901</td>\n",
              "      <td>1.438313</td>\n",
              "      <td>1.167176</td>\n",
              "    </tr>\n",
              "    <tr>\n",
              "      <th>1</th>\n",
              "      <td>5001</td>\n",
              "      <td>'Abetone'</td>\n",
              "      <td>1319.144154</td>\n",
              "      <td>85.599127</td>\n",
              "      <td>13.342638</td>\n",
              "      <td>4.979222</td>\n",
              "      <td>252.769653</td>\n",
              "      <td>96.036924</td>\n",
              "      <td>134.037400</td>\n",
              "      <td>377.648461</td>\n",
              "      <td>...</td>\n",
              "      <td>633069.81</td>\n",
              "      <td>4890553.68</td>\n",
              "      <td>1</td>\n",
              "      <td>0.778761</td>\n",
              "      <td>28.250000</td>\n",
              "      <td>0.890564</td>\n",
              "      <td>0.184415</td>\n",
              "      <td>1.738901</td>\n",
              "      <td>1.438313</td>\n",
              "      <td>1.167176</td>\n",
              "    </tr>\n",
              "    <tr>\n",
              "      <th>2</th>\n",
              "      <td>5002</td>\n",
              "      <td>'Albareto'</td>\n",
              "      <td>531.112211</td>\n",
              "      <td>40.321631</td>\n",
              "      <td>7.545648</td>\n",
              "      <td>4.469855</td>\n",
              "      <td>219.061317</td>\n",
              "      <td>121.198571</td>\n",
              "      <td>203.680776</td>\n",
              "      <td>300.679959</td>\n",
              "      <td>...</td>\n",
              "      <td>555576.92</td>\n",
              "      <td>4921743.21</td>\n",
              "      <td>1</td>\n",
              "      <td>1.219018</td>\n",
              "      <td>33.469565</td>\n",
              "      <td>0.823918</td>\n",
              "      <td>0.287186</td>\n",
              "      <td>2.145015</td>\n",
              "      <td>1.676915</td>\n",
              "      <td>1.254679</td>\n",
              "    </tr>\n",
              "    <tr>\n",
              "      <th>3</th>\n",
              "      <td>5002</td>\n",
              "      <td>'Albareto'</td>\n",
              "      <td>531.112211</td>\n",
              "      <td>40.321631</td>\n",
              "      <td>7.545648</td>\n",
              "      <td>4.469855</td>\n",
              "      <td>219.061317</td>\n",
              "      <td>121.198571</td>\n",
              "      <td>203.680776</td>\n",
              "      <td>300.679959</td>\n",
              "      <td>...</td>\n",
              "      <td>555576.92</td>\n",
              "      <td>4921743.21</td>\n",
              "      <td>1</td>\n",
              "      <td>0.979995</td>\n",
              "      <td>33.469565</td>\n",
              "      <td>0.823918</td>\n",
              "      <td>0.287186</td>\n",
              "      <td>2.145015</td>\n",
              "      <td>1.676915</td>\n",
              "      <td>1.254679</td>\n",
              "    </tr>\n",
              "    <tr>\n",
              "      <th>4</th>\n",
              "      <td>5002</td>\n",
              "      <td>'Albareto'</td>\n",
              "      <td>531.112211</td>\n",
              "      <td>40.321631</td>\n",
              "      <td>7.545648</td>\n",
              "      <td>4.469855</td>\n",
              "      <td>219.061317</td>\n",
              "      <td>121.198571</td>\n",
              "      <td>203.680776</td>\n",
              "      <td>300.679959</td>\n",
              "      <td>...</td>\n",
              "      <td>555576.92</td>\n",
              "      <td>4921743.21</td>\n",
              "      <td>1</td>\n",
              "      <td>1.153287</td>\n",
              "      <td>33.469565</td>\n",
              "      <td>0.823918</td>\n",
              "      <td>0.287186</td>\n",
              "      <td>2.145015</td>\n",
              "      <td>1.676915</td>\n",
              "      <td>1.254679</td>\n",
              "    </tr>\n",
              "  </tbody>\n",
              "</table>\n",
              "<p>5 rows × 30 columns</p>\n",
              "</div>"
            ],
            "text/plain": [
              "     ID        Nome  HMerit_mean(m)  HMerit_stdev(m)  Slope_mean(deg)  \\\n",
              "0  5001   'Abetone'     1319.144154        85.599127        13.342638   \n",
              "1  5001   'Abetone'     1319.144154        85.599127        13.342638   \n",
              "2  5002  'Albareto'      531.112211        40.321631         7.545648   \n",
              "3  5002  'Albareto'      531.112211        40.321631         7.545648   \n",
              "4  5002  'Albareto'      531.112211        40.321631         7.545648   \n",
              "\n",
              "   Slope_stdev(deg)  Aspect_mean(deg)  Aspect_stdev(deg)  \\\n",
              "0          4.979222        252.769653          96.036924   \n",
              "1          4.979222        252.769653          96.036924   \n",
              "2          4.469855        219.061317         121.198571   \n",
              "3          4.469855        219.061317         121.198571   \n",
              "4          4.469855        219.061317         121.198571   \n",
              "\n",
              "   MinDistAdriaticC_(km)  OrogrAdri_mean (m)  ...          X           Y  \\\n",
              "0             134.037400          377.648461  ...  633069.81  4890553.68   \n",
              "1             134.037400          377.648461  ...  633069.81  4890553.68   \n",
              "2             203.680776          300.679959  ...  555576.92  4921743.21   \n",
              "3             203.680776          300.679959  ...  555576.92  4921743.21   \n",
              "4             203.680776          300.679959  ...  555576.92  4921743.21   \n",
              "\n",
              "   duration[h]       AMS   mean_IdD       loc     scale    99perc    95perc  \\\n",
              "0            1  1.221239  28.250000  0.890564  0.184415  1.738901  1.438313   \n",
              "1            1  0.778761  28.250000  0.890564  0.184415  1.738901  1.438313   \n",
              "2            1  1.219018  33.469565  0.823918  0.287186  2.145015  1.676915   \n",
              "3            1  0.979995  33.469565  0.823918  0.287186  2.145015  1.676915   \n",
              "4            1  1.153287  33.469565  0.823918  0.287186  2.145015  1.676915   \n",
              "\n",
              "     80perc  \n",
              "0  1.167176  \n",
              "1  1.167176  \n",
              "2  1.254679  \n",
              "3  1.254679  \n",
              "4  1.254679  \n",
              "\n",
              "[5 rows x 30 columns]"
            ]
          },
          "execution_count": 6,
          "metadata": {},
          "output_type": "execute_result"
        }
      ],
      "source": [
        "df.head()"
      ]
    },
    {
      "cell_type": "code",
      "execution_count": 7,
      "metadata": {
        "id": "-aJ36bDk3oIh"
      },
      "outputs": [
        {
          "name": "stdout",
          "output_type": "stream",
          "text": [
            "Durations:  [ 1  3  6 12 24]\n"
          ]
        }
      ],
      "source": [
        "# Clean the dataset from the columns that are not useful\n",
        "to_remove = ['Nome', 'loc', 'scale', '99perc', '95perc', '80perc']\n",
        "df = df.drop(to_remove, axis=1, inplace=False)\n",
        "\n",
        "# Unique duration values\n",
        "DURATION = df['duration[h]'].unique()\n",
        "print('Durations: ', DURATION)"
      ]
    },
    {
      "cell_type": "markdown",
      "metadata": {
        "id": "ksQ1wUwYAJvQ"
      },
      "source": [
        "## 1.2. Preprocess and split the dataset"
      ]
    },
    {
      "cell_type": "code",
      "execution_count": 8,
      "metadata": {
        "id": "HNkKFegE3oIh"
      },
      "outputs": [],
      "source": [
        "# create a dictionary of dataframes, one for each duration\n",
        "dfs = {}\n",
        "for duration in DURATION:\n",
        "    dfs[f'{duration}'] = df[df['duration[h]'] == duration].drop(\"duration[h]\", axis=1, inplace=False)\n",
        "    dfs[f'{duration}'].reset_index(drop=True, inplace=True)"
      ]
    },
    {
      "cell_type": "code",
      "execution_count": 9,
      "metadata": {},
      "outputs": [],
      "source": [
        "def scale_AMS(df, k = 1.2, IdD = False):\n",
        "    \"\"\"\n",
        "        df: dataframe\n",
        "        k: Multiplication factor to extend the range of AMS values. Defaults to 1.\n",
        "        IdD: To specify how standardize. Defaults to False.\n",
        "    \"\"\"\n",
        "    if IdD:\n",
        "        df['AMS'] = df.apply(lambda row: row['AMS'] * row['IdD'], axis=1)\n",
        "\n",
        "    min_AMS = df['AMS'].min() - 1e-3 # to avoid zero values\n",
        "    max_AMS = df['AMS'].max() * k\n",
        "\n",
        "    df['AMS'] = df.apply(lambda row: (row['AMS'] - min_AMS) / (max_AMS - min_AMS), axis=1)\n",
        "\n",
        "    return df"
      ]
    },
    {
      "cell_type": "code",
      "execution_count": 10,
      "metadata": {},
      "outputs": [],
      "source": [
        "def standardize(dfs):\n",
        "    \n",
        "    features_not_to_scale = ['ID', 'AMS', 'mean_IdD']\n",
        "    features_to_scale = dfs['1'].columns.drop(features_not_to_scale)\n",
        "\n",
        "    order_columns = ['ID', 'AMS', 'mean_IdD'] + list(features_to_scale)\n",
        "\n",
        "    scaler = MinMaxScaler() #min max scaler to have values in range [0, 1]\n",
        "    std_dfs = {}\n",
        "\n",
        "    for duration in DURATION:\n",
        "        scaled_data = scaler.fit_transform(dfs[f'{duration}'][features_to_scale])\n",
        "        non_scaled_data = dfs[f'{duration}'][features_not_to_scale]\n",
        "        std_dfs[f'{duration}'] = np.concatenate([non_scaled_data, scaled_data], axis=1)\n",
        "\n",
        "        # convert to dataframe\n",
        "        std_dfs[f'{duration}'] = pd.DataFrame(std_dfs[f'{duration}'], columns=order_columns)\n",
        "\n",
        "        # scale AMS\n",
        "        std_dfs[f'{duration}'] = scale_AMS(std_dfs[f'{duration}'])\n",
        "\n",
        "    return std_dfs"
      ]
    },
    {
      "cell_type": "markdown",
      "metadata": {},
      "source": [
        "### Split the dataset into train, validation and test"
      ]
    },
    {
      "cell_type": "code",
      "execution_count": 11,
      "metadata": {
        "id": "Uh2eA35kAJvR"
      },
      "outputs": [],
      "source": [
        "# Take the first 100 ID from df2 and use them to create the test sets\n",
        "test_ID = df_indexes_test['ID'].to_list()[:100]\n",
        "\n",
        "test_dfs = {}\n",
        "for duration in DURATION:\n",
        "    test_dfs[f'{duration}'] = dfs[f'{duration}'][dfs[f'{duration}']['ID'].isin(test_ID)]\n",
        "    test_dfs[f'{duration}'].reset_index(drop=True, inplace=True)"
      ]
    },
    {
      "cell_type": "code",
      "execution_count": 12,
      "metadata": {
        "id": "9ENbrqNzAJvR"
      },
      "outputs": [],
      "source": [
        "# Drop the test set from std_dfs and then create the train sets and validation sets\n",
        "for duration in DURATION:\n",
        "    dfs[f'{duration}'] = dfs[f'{duration}'].drop(dfs[f'{duration}'][dfs[f'{duration}']['ID'].isin(test_ID)].index)\n",
        "    dfs[f'{duration}'].reset_index(drop=True, inplace=True)\n",
        "\n",
        "validation_split = 0.1\n",
        "\n",
        "train_dfs = {}\n",
        "val_dfs = {}\n",
        "for duration in DURATION:\n",
        "    train_dfs[f'{duration}'], val_dfs[f'{duration}'] = train_test_split(dfs[f'{duration}'], test_size=validation_split, shuffle=False)\n",
        "    train_dfs[f'{duration}'].reset_index(drop=True, inplace=True)\n",
        "    val_dfs[f'{duration}'].reset_index(drop=True, inplace=True)"
      ]
    },
    {
      "cell_type": "code",
      "execution_count": 13,
      "metadata": {},
      "outputs": [
        {
          "data": {
            "text/html": [
              "<div>\n",
              "<style scoped>\n",
              "    .dataframe tbody tr th:only-of-type {\n",
              "        vertical-align: middle;\n",
              "    }\n",
              "\n",
              "    .dataframe tbody tr th {\n",
              "        vertical-align: top;\n",
              "    }\n",
              "\n",
              "    .dataframe thead th {\n",
              "        text-align: right;\n",
              "    }\n",
              "</style>\n",
              "<table border=\"1\" class=\"dataframe\">\n",
              "  <thead>\n",
              "    <tr style=\"text-align: right;\">\n",
              "      <th></th>\n",
              "      <th>ID</th>\n",
              "      <th>HMerit_mean(m)</th>\n",
              "      <th>HMerit_stdev(m)</th>\n",
              "      <th>Slope_mean(deg)</th>\n",
              "      <th>Slope_stdev(deg)</th>\n",
              "      <th>Aspect_mean(deg)</th>\n",
              "      <th>Aspect_stdev(deg)</th>\n",
              "      <th>MinDistAdriaticC_(km)</th>\n",
              "      <th>OrogrAdri_mean (m)</th>\n",
              "      <th>OrogrAdri_stdev(m)</th>\n",
              "      <th>...</th>\n",
              "      <th>OrograTirr_stdev(m)</th>\n",
              "      <th>OrograTirr_max(m)</th>\n",
              "      <th>MAP(mm)</th>\n",
              "      <th>MASnowP(mm)</th>\n",
              "      <th>VarClimPT(mm)</th>\n",
              "      <th>VarClimSowP(mm)</th>\n",
              "      <th>X</th>\n",
              "      <th>Y</th>\n",
              "      <th>AMS</th>\n",
              "      <th>mean_IdD</th>\n",
              "    </tr>\n",
              "  </thead>\n",
              "  <tbody>\n",
              "    <tr>\n",
              "      <th>0</th>\n",
              "      <td>5001</td>\n",
              "      <td>1319.144154</td>\n",
              "      <td>85.599127</td>\n",
              "      <td>13.342638</td>\n",
              "      <td>4.979222</td>\n",
              "      <td>252.769653</td>\n",
              "      <td>96.036924</td>\n",
              "      <td>134.037400</td>\n",
              "      <td>377.648461</td>\n",
              "      <td>426.348085</td>\n",
              "      <td>...</td>\n",
              "      <td>496.711703</td>\n",
              "      <td>1923.808472</td>\n",
              "      <td>1948.225952</td>\n",
              "      <td>577.581116</td>\n",
              "      <td>484.327515</td>\n",
              "      <td>281.338470</td>\n",
              "      <td>633069.81</td>\n",
              "      <td>4890553.68</td>\n",
              "      <td>1.106796</td>\n",
              "      <td>51.500000</td>\n",
              "    </tr>\n",
              "    <tr>\n",
              "      <th>1</th>\n",
              "      <td>5001</td>\n",
              "      <td>1319.144154</td>\n",
              "      <td>85.599127</td>\n",
              "      <td>13.342638</td>\n",
              "      <td>4.979222</td>\n",
              "      <td>252.769653</td>\n",
              "      <td>96.036924</td>\n",
              "      <td>134.037400</td>\n",
              "      <td>377.648461</td>\n",
              "      <td>426.348085</td>\n",
              "      <td>...</td>\n",
              "      <td>496.711703</td>\n",
              "      <td>1923.808472</td>\n",
              "      <td>1948.225952</td>\n",
              "      <td>577.581116</td>\n",
              "      <td>484.327515</td>\n",
              "      <td>281.338470</td>\n",
              "      <td>633069.81</td>\n",
              "      <td>4890553.68</td>\n",
              "      <td>0.893204</td>\n",
              "      <td>51.500000</td>\n",
              "    </tr>\n",
              "    <tr>\n",
              "      <th>2</th>\n",
              "      <td>5001</td>\n",
              "      <td>1319.144154</td>\n",
              "      <td>85.599127</td>\n",
              "      <td>13.342638</td>\n",
              "      <td>4.979222</td>\n",
              "      <td>252.769653</td>\n",
              "      <td>96.036924</td>\n",
              "      <td>134.037400</td>\n",
              "      <td>377.648461</td>\n",
              "      <td>426.348085</td>\n",
              "      <td>...</td>\n",
              "      <td>496.711703</td>\n",
              "      <td>1923.808472</td>\n",
              "      <td>1948.225952</td>\n",
              "      <td>577.581116</td>\n",
              "      <td>484.327515</td>\n",
              "      <td>281.338470</td>\n",
              "      <td>633069.81</td>\n",
              "      <td>4890553.68</td>\n",
              "      <td>1.184466</td>\n",
              "      <td>51.500000</td>\n",
              "    </tr>\n",
              "    <tr>\n",
              "      <th>3</th>\n",
              "      <td>5001</td>\n",
              "      <td>1319.144154</td>\n",
              "      <td>85.599127</td>\n",
              "      <td>13.342638</td>\n",
              "      <td>4.979222</td>\n",
              "      <td>252.769653</td>\n",
              "      <td>96.036924</td>\n",
              "      <td>134.037400</td>\n",
              "      <td>377.648461</td>\n",
              "      <td>426.348085</td>\n",
              "      <td>...</td>\n",
              "      <td>496.711703</td>\n",
              "      <td>1923.808472</td>\n",
              "      <td>1948.225952</td>\n",
              "      <td>577.581116</td>\n",
              "      <td>484.327515</td>\n",
              "      <td>281.338470</td>\n",
              "      <td>633069.81</td>\n",
              "      <td>4890553.68</td>\n",
              "      <td>0.815534</td>\n",
              "      <td>51.500000</td>\n",
              "    </tr>\n",
              "    <tr>\n",
              "      <th>4</th>\n",
              "      <td>5002</td>\n",
              "      <td>531.112211</td>\n",
              "      <td>40.321631</td>\n",
              "      <td>7.545648</td>\n",
              "      <td>4.469855</td>\n",
              "      <td>219.061317</td>\n",
              "      <td>121.198571</td>\n",
              "      <td>203.680776</td>\n",
              "      <td>300.679959</td>\n",
              "      <td>384.928238</td>\n",
              "      <td>...</td>\n",
              "      <td>245.328628</td>\n",
              "      <td>1211.976807</td>\n",
              "      <td>1519.375977</td>\n",
              "      <td>12.727350</td>\n",
              "      <td>370.017700</td>\n",
              "      <td>23.933985</td>\n",
              "      <td>555576.92</td>\n",
              "      <td>4921743.21</td>\n",
              "      <td>0.876011</td>\n",
              "      <td>53.195652</td>\n",
              "    </tr>\n",
              "  </tbody>\n",
              "</table>\n",
              "<p>5 rows × 23 columns</p>\n",
              "</div>"
            ],
            "text/plain": [
              "     ID  HMerit_mean(m)  HMerit_stdev(m)  Slope_mean(deg)  Slope_stdev(deg)  \\\n",
              "0  5001     1319.144154        85.599127        13.342638          4.979222   \n",
              "1  5001     1319.144154        85.599127        13.342638          4.979222   \n",
              "2  5001     1319.144154        85.599127        13.342638          4.979222   \n",
              "3  5001     1319.144154        85.599127        13.342638          4.979222   \n",
              "4  5002      531.112211        40.321631         7.545648          4.469855   \n",
              "\n",
              "   Aspect_mean(deg)  Aspect_stdev(deg)  MinDistAdriaticC_(km)  \\\n",
              "0        252.769653          96.036924             134.037400   \n",
              "1        252.769653          96.036924             134.037400   \n",
              "2        252.769653          96.036924             134.037400   \n",
              "3        252.769653          96.036924             134.037400   \n",
              "4        219.061317         121.198571             203.680776   \n",
              "\n",
              "   OrogrAdri_mean (m)  OrogrAdri_stdev(m)  ...  OrograTirr_stdev(m)  \\\n",
              "0          377.648461          426.348085  ...           496.711703   \n",
              "1          377.648461          426.348085  ...           496.711703   \n",
              "2          377.648461          426.348085  ...           496.711703   \n",
              "3          377.648461          426.348085  ...           496.711703   \n",
              "4          300.679959          384.928238  ...           245.328628   \n",
              "\n",
              "   OrograTirr_max(m)      MAP(mm)  MASnowP(mm)  VarClimPT(mm)  \\\n",
              "0        1923.808472  1948.225952   577.581116     484.327515   \n",
              "1        1923.808472  1948.225952   577.581116     484.327515   \n",
              "2        1923.808472  1948.225952   577.581116     484.327515   \n",
              "3        1923.808472  1948.225952   577.581116     484.327515   \n",
              "4        1211.976807  1519.375977    12.727350     370.017700   \n",
              "\n",
              "   VarClimSowP(mm)          X           Y       AMS   mean_IdD  \n",
              "0       281.338470  633069.81  4890553.68  1.106796  51.500000  \n",
              "1       281.338470  633069.81  4890553.68  0.893204  51.500000  \n",
              "2       281.338470  633069.81  4890553.68  1.184466  51.500000  \n",
              "3       281.338470  633069.81  4890553.68  0.815534  51.500000  \n",
              "4        23.933985  555576.92  4921743.21  0.876011  53.195652  \n",
              "\n",
              "[5 rows x 23 columns]"
            ]
          },
          "execution_count": 13,
          "metadata": {},
          "output_type": "execute_result"
        }
      ],
      "source": [
        "train_dfs['3'].head()"
      ]
    },
    {
      "cell_type": "markdown",
      "metadata": {},
      "source": [
        "### Standardize datasets"
      ]
    },
    {
      "cell_type": "code",
      "execution_count": 14,
      "metadata": {},
      "outputs": [],
      "source": [
        "train_dfs_std = standardize(train_dfs)\n",
        "val_dfs_std = standardize(val_dfs)\n",
        "test_dfs_std = standardize(test_dfs)"
      ]
    },
    {
      "cell_type": "code",
      "execution_count": 15,
      "metadata": {},
      "outputs": [],
      "source": [
        "# column id must be integer\n",
        "for duration in DURATION:\n",
        "    train_dfs_std[f'{duration}']['ID'] = train_dfs_std[f'{duration}']['ID'].astype(int)\n",
        "    val_dfs_std[f'{duration}']['ID'] = val_dfs_std[f'{duration}']['ID'].astype(int)\n",
        "    test_dfs_std[f'{duration}']['ID'] = test_dfs_std[f'{duration}']['ID'].astype(int)"
      ]
    },
    {
      "cell_type": "code",
      "execution_count": 16,
      "metadata": {},
      "outputs": [
        {
          "data": {
            "text/html": [
              "<div>\n",
              "<style scoped>\n",
              "    .dataframe tbody tr th:only-of-type {\n",
              "        vertical-align: middle;\n",
              "    }\n",
              "\n",
              "    .dataframe tbody tr th {\n",
              "        vertical-align: top;\n",
              "    }\n",
              "\n",
              "    .dataframe thead th {\n",
              "        text-align: right;\n",
              "    }\n",
              "</style>\n",
              "<table border=\"1\" class=\"dataframe\">\n",
              "  <thead>\n",
              "    <tr style=\"text-align: right;\">\n",
              "      <th></th>\n",
              "      <th>ID</th>\n",
              "      <th>AMS</th>\n",
              "      <th>mean_IdD</th>\n",
              "      <th>HMerit_mean(m)</th>\n",
              "      <th>HMerit_stdev(m)</th>\n",
              "      <th>Slope_mean(deg)</th>\n",
              "      <th>Slope_stdev(deg)</th>\n",
              "      <th>Aspect_mean(deg)</th>\n",
              "      <th>Aspect_stdev(deg)</th>\n",
              "      <th>MinDistAdriaticC_(km)</th>\n",
              "      <th>...</th>\n",
              "      <th>MinDistTirrenicC_(km)</th>\n",
              "      <th>OrograTirr_mean(m)</th>\n",
              "      <th>OrograTirr_stdev(m)</th>\n",
              "      <th>OrograTirr_max(m)</th>\n",
              "      <th>MAP(mm)</th>\n",
              "      <th>MASnowP(mm)</th>\n",
              "      <th>VarClimPT(mm)</th>\n",
              "      <th>VarClimSowP(mm)</th>\n",
              "      <th>X</th>\n",
              "      <th>Y</th>\n",
              "    </tr>\n",
              "  </thead>\n",
              "  <tbody>\n",
              "    <tr>\n",
              "      <th>0</th>\n",
              "      <td>5001</td>\n",
              "      <td>0.186032</td>\n",
              "      <td>51.500000</td>\n",
              "      <td>0.401088</td>\n",
              "      <td>0.297265</td>\n",
              "      <td>0.346670</td>\n",
              "      <td>0.224577</td>\n",
              "      <td>0.842012</td>\n",
              "      <td>0.579848</td>\n",
              "      <td>0.304203</td>\n",
              "      <td>...</td>\n",
              "      <td>0.151045</td>\n",
              "      <td>0.373266</td>\n",
              "      <td>0.504882</td>\n",
              "      <td>0.480652</td>\n",
              "      <td>0.638099</td>\n",
              "      <td>0.657211</td>\n",
              "      <td>0.658962</td>\n",
              "      <td>0.774572</td>\n",
              "      <td>0.603963</td>\n",
              "      <td>0.249077</td>\n",
              "    </tr>\n",
              "    <tr>\n",
              "      <th>1</th>\n",
              "      <td>5001</td>\n",
              "      <td>0.149663</td>\n",
              "      <td>51.500000</td>\n",
              "      <td>0.401088</td>\n",
              "      <td>0.297265</td>\n",
              "      <td>0.346670</td>\n",
              "      <td>0.224577</td>\n",
              "      <td>0.842012</td>\n",
              "      <td>0.579848</td>\n",
              "      <td>0.304203</td>\n",
              "      <td>...</td>\n",
              "      <td>0.151045</td>\n",
              "      <td>0.373266</td>\n",
              "      <td>0.504882</td>\n",
              "      <td>0.480652</td>\n",
              "      <td>0.638099</td>\n",
              "      <td>0.657211</td>\n",
              "      <td>0.658962</td>\n",
              "      <td>0.774572</td>\n",
              "      <td>0.603963</td>\n",
              "      <td>0.249077</td>\n",
              "    </tr>\n",
              "    <tr>\n",
              "      <th>2</th>\n",
              "      <td>5001</td>\n",
              "      <td>0.199258</td>\n",
              "      <td>51.500000</td>\n",
              "      <td>0.401088</td>\n",
              "      <td>0.297265</td>\n",
              "      <td>0.346670</td>\n",
              "      <td>0.224577</td>\n",
              "      <td>0.842012</td>\n",
              "      <td>0.579848</td>\n",
              "      <td>0.304203</td>\n",
              "      <td>...</td>\n",
              "      <td>0.151045</td>\n",
              "      <td>0.373266</td>\n",
              "      <td>0.504882</td>\n",
              "      <td>0.480652</td>\n",
              "      <td>0.638099</td>\n",
              "      <td>0.657211</td>\n",
              "      <td>0.658962</td>\n",
              "      <td>0.774572</td>\n",
              "      <td>0.603963</td>\n",
              "      <td>0.249077</td>\n",
              "    </tr>\n",
              "    <tr>\n",
              "      <th>3</th>\n",
              "      <td>5001</td>\n",
              "      <td>0.136437</td>\n",
              "      <td>51.500000</td>\n",
              "      <td>0.401088</td>\n",
              "      <td>0.297265</td>\n",
              "      <td>0.346670</td>\n",
              "      <td>0.224577</td>\n",
              "      <td>0.842012</td>\n",
              "      <td>0.579848</td>\n",
              "      <td>0.304203</td>\n",
              "      <td>...</td>\n",
              "      <td>0.151045</td>\n",
              "      <td>0.373266</td>\n",
              "      <td>0.504882</td>\n",
              "      <td>0.480652</td>\n",
              "      <td>0.638099</td>\n",
              "      <td>0.657211</td>\n",
              "      <td>0.658962</td>\n",
              "      <td>0.774572</td>\n",
              "      <td>0.603963</td>\n",
              "      <td>0.249077</td>\n",
              "    </tr>\n",
              "    <tr>\n",
              "      <th>4</th>\n",
              "      <td>5002</td>\n",
              "      <td>0.146735</td>\n",
              "      <td>53.195652</td>\n",
              "      <td>0.161975</td>\n",
              "      <td>0.139420</td>\n",
              "      <td>0.194636</td>\n",
              "      <td>0.201272</td>\n",
              "      <td>0.713161</td>\n",
              "      <td>0.775561</td>\n",
              "      <td>0.462353</td>\n",
              "      <td>...</td>\n",
              "      <td>0.095174</td>\n",
              "      <td>0.256323</td>\n",
              "      <td>0.248748</td>\n",
              "      <td>0.302445</td>\n",
              "      <td>0.445455</td>\n",
              "      <td>0.014482</td>\n",
              "      <td>0.448583</td>\n",
              "      <td>0.065894</td>\n",
              "      <td>0.455494</td>\n",
              "      <td>0.327658</td>\n",
              "    </tr>\n",
              "  </tbody>\n",
              "</table>\n",
              "<p>5 rows × 23 columns</p>\n",
              "</div>"
            ],
            "text/plain": [
              "     ID       AMS   mean_IdD  HMerit_mean(m)  HMerit_stdev(m)  \\\n",
              "0  5001  0.186032  51.500000        0.401088         0.297265   \n",
              "1  5001  0.149663  51.500000        0.401088         0.297265   \n",
              "2  5001  0.199258  51.500000        0.401088         0.297265   \n",
              "3  5001  0.136437  51.500000        0.401088         0.297265   \n",
              "4  5002  0.146735  53.195652        0.161975         0.139420   \n",
              "\n",
              "   Slope_mean(deg)  Slope_stdev(deg)  Aspect_mean(deg)  Aspect_stdev(deg)  \\\n",
              "0         0.346670          0.224577          0.842012           0.579848   \n",
              "1         0.346670          0.224577          0.842012           0.579848   \n",
              "2         0.346670          0.224577          0.842012           0.579848   \n",
              "3         0.346670          0.224577          0.842012           0.579848   \n",
              "4         0.194636          0.201272          0.713161           0.775561   \n",
              "\n",
              "   MinDistAdriaticC_(km)  ...  MinDistTirrenicC_(km)  OrograTirr_mean(m)  \\\n",
              "0               0.304203  ...               0.151045            0.373266   \n",
              "1               0.304203  ...               0.151045            0.373266   \n",
              "2               0.304203  ...               0.151045            0.373266   \n",
              "3               0.304203  ...               0.151045            0.373266   \n",
              "4               0.462353  ...               0.095174            0.256323   \n",
              "\n",
              "   OrograTirr_stdev(m)  OrograTirr_max(m)   MAP(mm)  MASnowP(mm)  \\\n",
              "0             0.504882           0.480652  0.638099     0.657211   \n",
              "1             0.504882           0.480652  0.638099     0.657211   \n",
              "2             0.504882           0.480652  0.638099     0.657211   \n",
              "3             0.504882           0.480652  0.638099     0.657211   \n",
              "4             0.248748           0.302445  0.445455     0.014482   \n",
              "\n",
              "   VarClimPT(mm)  VarClimSowP(mm)         X         Y  \n",
              "0       0.658962         0.774572  0.603963  0.249077  \n",
              "1       0.658962         0.774572  0.603963  0.249077  \n",
              "2       0.658962         0.774572  0.603963  0.249077  \n",
              "3       0.658962         0.774572  0.603963  0.249077  \n",
              "4       0.448583         0.065894  0.455494  0.327658  \n",
              "\n",
              "[5 rows x 23 columns]"
            ]
          },
          "execution_count": 16,
          "metadata": {},
          "output_type": "execute_result"
        }
      ],
      "source": [
        "train_dfs_std['3'].head()"
      ]
    },
    {
      "cell_type": "markdown",
      "metadata": {},
      "source": [
        "### Add the guesses to datasets"
      ]
    },
    {
      "cell_type": "code",
      "execution_count": 17,
      "metadata": {},
      "outputs": [],
      "source": [
        "def add_alpha_beta(df):\n",
        "\n",
        "    # create two empy columns for alpha and beta\n",
        "    df['alpha'] = np.nan\n",
        "    df['beta'] = np.nan\n",
        "\n",
        "    for id in df['ID'].unique():\n",
        "        try:\n",
        "            a, b, _, _ = stats.beta.fit(df[df['ID'] == id]['AMS'], floc=0, fscale=1)\n",
        "        except:\n",
        "            a, b = 1, 1\n",
        "        \n",
        "        df.loc[df['ID'] == id, 'alpha'] = a\n",
        "        df.loc[df['ID'] == id, 'beta'] = b\n",
        "\n",
        "    # if there are nan values, raise exception\n",
        "    if df.isnull().values.any():\n",
        "        raise Exception('There are nan values in the dataframe')\n",
        "\n",
        "    return df"
      ]
    },
    {
      "cell_type": "code",
      "execution_count": 18,
      "metadata": {},
      "outputs": [
        {
          "name": "stderr",
          "output_type": "stream",
          "text": [
            "C:\\Users\\chiar\\AppData\\Local\\Packages\\PythonSoftwareFoundation.Python.3.11_qbz5n2kfra8p0\\LocalCache\\local-packages\\Python311\\site-packages\\scipy\\stats\\_continuous_distns.py:817: RuntimeWarning: divide by zero encountered in scalar divide\n",
            "  fac = xbar * (1 - xbar) / data.var(ddof=0) - 1\n",
            "C:\\Users\\chiar\\AppData\\Local\\Packages\\PythonSoftwareFoundation.Python.3.11_qbz5n2kfra8p0\\LocalCache\\local-packages\\Python311\\site-packages\\scipy\\stats\\_continuous_distns.py:639: RuntimeWarning: invalid value encountered in scalar add\n",
            "  func = [s1 - n * (-psiab + sc.psi(a)),\n",
            "C:\\Users\\chiar\\AppData\\Local\\Packages\\PythonSoftwareFoundation.Python.3.11_qbz5n2kfra8p0\\LocalCache\\local-packages\\Python311\\site-packages\\scipy\\stats\\_continuous_distns.py:640: RuntimeWarning: invalid value encountered in scalar add\n",
            "  s2 - n * (-psiab + sc.psi(b))]\n",
            "C:\\Users\\chiar\\AppData\\Local\\Packages\\PythonSoftwareFoundation.Python.3.11_qbz5n2kfra8p0\\LocalCache\\local-packages\\Python311\\site-packages\\scipy\\stats\\_continuous_distns.py:817: RuntimeWarning: divide by zero encountered in scalar divide\n",
            "  fac = xbar * (1 - xbar) / data.var(ddof=0) - 1\n",
            "C:\\Users\\chiar\\AppData\\Local\\Packages\\PythonSoftwareFoundation.Python.3.11_qbz5n2kfra8p0\\LocalCache\\local-packages\\Python311\\site-packages\\scipy\\stats\\_continuous_distns.py:639: RuntimeWarning: invalid value encountered in scalar add\n",
            "  func = [s1 - n * (-psiab + sc.psi(a)),\n",
            "C:\\Users\\chiar\\AppData\\Local\\Packages\\PythonSoftwareFoundation.Python.3.11_qbz5n2kfra8p0\\LocalCache\\local-packages\\Python311\\site-packages\\scipy\\stats\\_continuous_distns.py:640: RuntimeWarning: invalid value encountered in scalar add\n",
            "  s2 - n * (-psiab + sc.psi(b))]\n",
            "C:\\Users\\chiar\\AppData\\Local\\Packages\\PythonSoftwareFoundation.Python.3.11_qbz5n2kfra8p0\\LocalCache\\local-packages\\Python311\\site-packages\\scipy\\stats\\_continuous_distns.py:817: RuntimeWarning: divide by zero encountered in scalar divide\n",
            "  fac = xbar * (1 - xbar) / data.var(ddof=0) - 1\n",
            "C:\\Users\\chiar\\AppData\\Local\\Packages\\PythonSoftwareFoundation.Python.3.11_qbz5n2kfra8p0\\LocalCache\\local-packages\\Python311\\site-packages\\scipy\\stats\\_continuous_distns.py:639: RuntimeWarning: invalid value encountered in scalar add\n",
            "  func = [s1 - n * (-psiab + sc.psi(a)),\n",
            "C:\\Users\\chiar\\AppData\\Local\\Packages\\PythonSoftwareFoundation.Python.3.11_qbz5n2kfra8p0\\LocalCache\\local-packages\\Python311\\site-packages\\scipy\\stats\\_continuous_distns.py:640: RuntimeWarning: invalid value encountered in scalar add\n",
            "  s2 - n * (-psiab + sc.psi(b))]\n",
            "C:\\Users\\chiar\\AppData\\Local\\Packages\\PythonSoftwareFoundation.Python.3.11_qbz5n2kfra8p0\\LocalCache\\local-packages\\Python311\\site-packages\\scipy\\stats\\_continuous_distns.py:817: RuntimeWarning: divide by zero encountered in scalar divide\n",
            "  fac = xbar * (1 - xbar) / data.var(ddof=0) - 1\n",
            "C:\\Users\\chiar\\AppData\\Local\\Packages\\PythonSoftwareFoundation.Python.3.11_qbz5n2kfra8p0\\LocalCache\\local-packages\\Python311\\site-packages\\scipy\\stats\\_continuous_distns.py:639: RuntimeWarning: invalid value encountered in scalar add\n",
            "  func = [s1 - n * (-psiab + sc.psi(a)),\n",
            "C:\\Users\\chiar\\AppData\\Local\\Packages\\PythonSoftwareFoundation.Python.3.11_qbz5n2kfra8p0\\LocalCache\\local-packages\\Python311\\site-packages\\scipy\\stats\\_continuous_distns.py:640: RuntimeWarning: invalid value encountered in scalar add\n",
            "  s2 - n * (-psiab + sc.psi(b))]\n",
            "C:\\Users\\chiar\\AppData\\Local\\Packages\\PythonSoftwareFoundation.Python.3.11_qbz5n2kfra8p0\\LocalCache\\local-packages\\Python311\\site-packages\\scipy\\stats\\_continuous_distns.py:817: RuntimeWarning: divide by zero encountered in scalar divide\n",
            "  fac = xbar * (1 - xbar) / data.var(ddof=0) - 1\n",
            "C:\\Users\\chiar\\AppData\\Local\\Packages\\PythonSoftwareFoundation.Python.3.11_qbz5n2kfra8p0\\LocalCache\\local-packages\\Python311\\site-packages\\scipy\\stats\\_continuous_distns.py:639: RuntimeWarning: invalid value encountered in scalar add\n",
            "  func = [s1 - n * (-psiab + sc.psi(a)),\n",
            "C:\\Users\\chiar\\AppData\\Local\\Packages\\PythonSoftwareFoundation.Python.3.11_qbz5n2kfra8p0\\LocalCache\\local-packages\\Python311\\site-packages\\scipy\\stats\\_continuous_distns.py:640: RuntimeWarning: invalid value encountered in scalar add\n",
            "  s2 - n * (-psiab + sc.psi(b))]\n",
            "C:\\Users\\chiar\\AppData\\Local\\Packages\\PythonSoftwareFoundation.Python.3.11_qbz5n2kfra8p0\\LocalCache\\local-packages\\Python311\\site-packages\\scipy\\stats\\_continuous_distns.py:817: RuntimeWarning: divide by zero encountered in scalar divide\n",
            "  fac = xbar * (1 - xbar) / data.var(ddof=0) - 1\n",
            "C:\\Users\\chiar\\AppData\\Local\\Packages\\PythonSoftwareFoundation.Python.3.11_qbz5n2kfra8p0\\LocalCache\\local-packages\\Python311\\site-packages\\scipy\\stats\\_continuous_distns.py:639: RuntimeWarning: invalid value encountered in scalar add\n",
            "  func = [s1 - n * (-psiab + sc.psi(a)),\n",
            "C:\\Users\\chiar\\AppData\\Local\\Packages\\PythonSoftwareFoundation.Python.3.11_qbz5n2kfra8p0\\LocalCache\\local-packages\\Python311\\site-packages\\scipy\\stats\\_continuous_distns.py:640: RuntimeWarning: invalid value encountered in scalar add\n",
            "  s2 - n * (-psiab + sc.psi(b))]\n",
            "C:\\Users\\chiar\\AppData\\Local\\Packages\\PythonSoftwareFoundation.Python.3.11_qbz5n2kfra8p0\\LocalCache\\local-packages\\Python311\\site-packages\\scipy\\stats\\_continuous_distns.py:817: RuntimeWarning: divide by zero encountered in scalar divide\n",
            "  fac = xbar * (1 - xbar) / data.var(ddof=0) - 1\n",
            "C:\\Users\\chiar\\AppData\\Local\\Packages\\PythonSoftwareFoundation.Python.3.11_qbz5n2kfra8p0\\LocalCache\\local-packages\\Python311\\site-packages\\scipy\\stats\\_continuous_distns.py:639: RuntimeWarning: invalid value encountered in scalar add\n",
            "  func = [s1 - n * (-psiab + sc.psi(a)),\n",
            "C:\\Users\\chiar\\AppData\\Local\\Packages\\PythonSoftwareFoundation.Python.3.11_qbz5n2kfra8p0\\LocalCache\\local-packages\\Python311\\site-packages\\scipy\\stats\\_continuous_distns.py:640: RuntimeWarning: invalid value encountered in scalar add\n",
            "  s2 - n * (-psiab + sc.psi(b))]\n",
            "C:\\Users\\chiar\\AppData\\Local\\Packages\\PythonSoftwareFoundation.Python.3.11_qbz5n2kfra8p0\\LocalCache\\local-packages\\Python311\\site-packages\\scipy\\stats\\_continuous_distns.py:817: RuntimeWarning: divide by zero encountered in scalar divide\n",
            "  fac = xbar * (1 - xbar) / data.var(ddof=0) - 1\n",
            "C:\\Users\\chiar\\AppData\\Local\\Packages\\PythonSoftwareFoundation.Python.3.11_qbz5n2kfra8p0\\LocalCache\\local-packages\\Python311\\site-packages\\scipy\\stats\\_continuous_distns.py:639: RuntimeWarning: invalid value encountered in scalar add\n",
            "  func = [s1 - n * (-psiab + sc.psi(a)),\n",
            "C:\\Users\\chiar\\AppData\\Local\\Packages\\PythonSoftwareFoundation.Python.3.11_qbz5n2kfra8p0\\LocalCache\\local-packages\\Python311\\site-packages\\scipy\\stats\\_continuous_distns.py:640: RuntimeWarning: invalid value encountered in scalar add\n",
            "  s2 - n * (-psiab + sc.psi(b))]\n",
            "C:\\Users\\chiar\\AppData\\Local\\Packages\\PythonSoftwareFoundation.Python.3.11_qbz5n2kfra8p0\\LocalCache\\local-packages\\Python311\\site-packages\\scipy\\stats\\_continuous_distns.py:817: RuntimeWarning: divide by zero encountered in scalar divide\n",
            "  fac = xbar * (1 - xbar) / data.var(ddof=0) - 1\n",
            "C:\\Users\\chiar\\AppData\\Local\\Packages\\PythonSoftwareFoundation.Python.3.11_qbz5n2kfra8p0\\LocalCache\\local-packages\\Python311\\site-packages\\scipy\\stats\\_continuous_distns.py:639: RuntimeWarning: invalid value encountered in scalar add\n",
            "  func = [s1 - n * (-psiab + sc.psi(a)),\n",
            "C:\\Users\\chiar\\AppData\\Local\\Packages\\PythonSoftwareFoundation.Python.3.11_qbz5n2kfra8p0\\LocalCache\\local-packages\\Python311\\site-packages\\scipy\\stats\\_continuous_distns.py:640: RuntimeWarning: invalid value encountered in scalar add\n",
            "  s2 - n * (-psiab + sc.psi(b))]\n",
            "C:\\Users\\chiar\\AppData\\Local\\Packages\\PythonSoftwareFoundation.Python.3.11_qbz5n2kfra8p0\\LocalCache\\local-packages\\Python311\\site-packages\\scipy\\stats\\_continuous_distns.py:817: RuntimeWarning: divide by zero encountered in scalar divide\n",
            "  fac = xbar * (1 - xbar) / data.var(ddof=0) - 1\n",
            "C:\\Users\\chiar\\AppData\\Local\\Packages\\PythonSoftwareFoundation.Python.3.11_qbz5n2kfra8p0\\LocalCache\\local-packages\\Python311\\site-packages\\scipy\\stats\\_continuous_distns.py:639: RuntimeWarning: invalid value encountered in scalar add\n",
            "  func = [s1 - n * (-psiab + sc.psi(a)),\n",
            "C:\\Users\\chiar\\AppData\\Local\\Packages\\PythonSoftwareFoundation.Python.3.11_qbz5n2kfra8p0\\LocalCache\\local-packages\\Python311\\site-packages\\scipy\\stats\\_continuous_distns.py:640: RuntimeWarning: invalid value encountered in scalar add\n",
            "  s2 - n * (-psiab + sc.psi(b))]\n"
          ]
        }
      ],
      "source": [
        "for duration in DURATION:\n",
        "    train_dfs_std[f'{duration}'] = add_alpha_beta(train_dfs_std[f'{duration}'])\n",
        "    val_dfs_std[f'{duration}'] = add_alpha_beta(val_dfs_std[f'{duration}'])\n",
        "    test_dfs_std[f'{duration}'] = add_alpha_beta(test_dfs_std[f'{duration}'])"
      ]
    },
    {
      "cell_type": "code",
      "execution_count": 19,
      "metadata": {},
      "outputs": [
        {
          "data": {
            "text/html": [
              "<div>\n",
              "<style scoped>\n",
              "    .dataframe tbody tr th:only-of-type {\n",
              "        vertical-align: middle;\n",
              "    }\n",
              "\n",
              "    .dataframe tbody tr th {\n",
              "        vertical-align: top;\n",
              "    }\n",
              "\n",
              "    .dataframe thead th {\n",
              "        text-align: right;\n",
              "    }\n",
              "</style>\n",
              "<table border=\"1\" class=\"dataframe\">\n",
              "  <thead>\n",
              "    <tr style=\"text-align: right;\">\n",
              "      <th></th>\n",
              "      <th>ID</th>\n",
              "      <th>AMS</th>\n",
              "      <th>mean_IdD</th>\n",
              "      <th>HMerit_mean(m)</th>\n",
              "      <th>HMerit_stdev(m)</th>\n",
              "      <th>Slope_mean(deg)</th>\n",
              "      <th>Slope_stdev(deg)</th>\n",
              "      <th>Aspect_mean(deg)</th>\n",
              "      <th>Aspect_stdev(deg)</th>\n",
              "      <th>MinDistAdriaticC_(km)</th>\n",
              "      <th>...</th>\n",
              "      <th>OrograTirr_stdev(m)</th>\n",
              "      <th>OrograTirr_max(m)</th>\n",
              "      <th>MAP(mm)</th>\n",
              "      <th>MASnowP(mm)</th>\n",
              "      <th>VarClimPT(mm)</th>\n",
              "      <th>VarClimSowP(mm)</th>\n",
              "      <th>X</th>\n",
              "      <th>Y</th>\n",
              "      <th>alpha</th>\n",
              "      <th>beta</th>\n",
              "    </tr>\n",
              "  </thead>\n",
              "  <tbody>\n",
              "    <tr>\n",
              "      <th>0</th>\n",
              "      <td>5001</td>\n",
              "      <td>0.209672</td>\n",
              "      <td>28.250000</td>\n",
              "      <td>0.401088</td>\n",
              "      <td>0.297265</td>\n",
              "      <td>0.346670</td>\n",
              "      <td>0.224577</td>\n",
              "      <td>0.842012</td>\n",
              "      <td>0.579848</td>\n",
              "      <td>0.304203</td>\n",
              "      <td>...</td>\n",
              "      <td>0.504882</td>\n",
              "      <td>0.480652</td>\n",
              "      <td>0.638099</td>\n",
              "      <td>0.657211</td>\n",
              "      <td>0.658962</td>\n",
              "      <td>0.774572</td>\n",
              "      <td>0.603963</td>\n",
              "      <td>0.249077</td>\n",
              "      <td>15.996558</td>\n",
              "      <td>77.574629</td>\n",
              "    </tr>\n",
              "    <tr>\n",
              "      <th>1</th>\n",
              "      <td>5001</td>\n",
              "      <td>0.132265</td>\n",
              "      <td>28.250000</td>\n",
              "      <td>0.401088</td>\n",
              "      <td>0.297265</td>\n",
              "      <td>0.346670</td>\n",
              "      <td>0.224577</td>\n",
              "      <td>0.842012</td>\n",
              "      <td>0.579848</td>\n",
              "      <td>0.304203</td>\n",
              "      <td>...</td>\n",
              "      <td>0.504882</td>\n",
              "      <td>0.480652</td>\n",
              "      <td>0.638099</td>\n",
              "      <td>0.657211</td>\n",
              "      <td>0.658962</td>\n",
              "      <td>0.774572</td>\n",
              "      <td>0.603963</td>\n",
              "      <td>0.249077</td>\n",
              "      <td>15.996558</td>\n",
              "      <td>77.574629</td>\n",
              "    </tr>\n",
              "    <tr>\n",
              "      <th>2</th>\n",
              "      <td>5002</td>\n",
              "      <td>0.209284</td>\n",
              "      <td>33.469565</td>\n",
              "      <td>0.161975</td>\n",
              "      <td>0.139420</td>\n",
              "      <td>0.194636</td>\n",
              "      <td>0.201272</td>\n",
              "      <td>0.713161</td>\n",
              "      <td>0.775561</td>\n",
              "      <td>0.462353</td>\n",
              "      <td>...</td>\n",
              "      <td>0.248748</td>\n",
              "      <td>0.302445</td>\n",
              "      <td>0.445455</td>\n",
              "      <td>0.014482</td>\n",
              "      <td>0.448583</td>\n",
              "      <td>0.065894</td>\n",
              "      <td>0.455494</td>\n",
              "      <td>0.327658</td>\n",
              "      <td>5.432057</td>\n",
              "      <td>26.239425</td>\n",
              "    </tr>\n",
              "    <tr>\n",
              "      <th>3</th>\n",
              "      <td>5002</td>\n",
              "      <td>0.167469</td>\n",
              "      <td>33.469565</td>\n",
              "      <td>0.161975</td>\n",
              "      <td>0.139420</td>\n",
              "      <td>0.194636</td>\n",
              "      <td>0.201272</td>\n",
              "      <td>0.713161</td>\n",
              "      <td>0.775561</td>\n",
              "      <td>0.462353</td>\n",
              "      <td>...</td>\n",
              "      <td>0.248748</td>\n",
              "      <td>0.302445</td>\n",
              "      <td>0.445455</td>\n",
              "      <td>0.014482</td>\n",
              "      <td>0.448583</td>\n",
              "      <td>0.065894</td>\n",
              "      <td>0.455494</td>\n",
              "      <td>0.327658</td>\n",
              "      <td>5.432057</td>\n",
              "      <td>26.239425</td>\n",
              "    </tr>\n",
              "    <tr>\n",
              "      <th>4</th>\n",
              "      <td>5002</td>\n",
              "      <td>0.197785</td>\n",
              "      <td>33.469565</td>\n",
              "      <td>0.161975</td>\n",
              "      <td>0.139420</td>\n",
              "      <td>0.194636</td>\n",
              "      <td>0.201272</td>\n",
              "      <td>0.713161</td>\n",
              "      <td>0.775561</td>\n",
              "      <td>0.462353</td>\n",
              "      <td>...</td>\n",
              "      <td>0.248748</td>\n",
              "      <td>0.302445</td>\n",
              "      <td>0.445455</td>\n",
              "      <td>0.014482</td>\n",
              "      <td>0.448583</td>\n",
              "      <td>0.065894</td>\n",
              "      <td>0.455494</td>\n",
              "      <td>0.327658</td>\n",
              "      <td>5.432057</td>\n",
              "      <td>26.239425</td>\n",
              "    </tr>\n",
              "    <tr>\n",
              "      <th>...</th>\n",
              "      <td>...</td>\n",
              "      <td>...</td>\n",
              "      <td>...</td>\n",
              "      <td>...</td>\n",
              "      <td>...</td>\n",
              "      <td>...</td>\n",
              "      <td>...</td>\n",
              "      <td>...</td>\n",
              "      <td>...</td>\n",
              "      <td>...</td>\n",
              "      <td>...</td>\n",
              "      <td>...</td>\n",
              "      <td>...</td>\n",
              "      <td>...</td>\n",
              "      <td>...</td>\n",
              "      <td>...</td>\n",
              "      <td>...</td>\n",
              "      <td>...</td>\n",
              "      <td>...</td>\n",
              "      <td>...</td>\n",
              "      <td>...</td>\n",
              "    </tr>\n",
              "    <tr>\n",
              "      <th>46660</th>\n",
              "      <td>20034</td>\n",
              "      <td>0.123402</td>\n",
              "      <td>12.635714</td>\n",
              "      <td>0.384424</td>\n",
              "      <td>0.401780</td>\n",
              "      <td>0.482421</td>\n",
              "      <td>0.531798</td>\n",
              "      <td>0.484930</td>\n",
              "      <td>0.559704</td>\n",
              "      <td>0.954521</td>\n",
              "      <td>...</td>\n",
              "      <td>0.893106</td>\n",
              "      <td>1.000000</td>\n",
              "      <td>0.246884</td>\n",
              "      <td>0.254848</td>\n",
              "      <td>0.467442</td>\n",
              "      <td>0.339203</td>\n",
              "      <td>0.046453</td>\n",
              "      <td>0.706404</td>\n",
              "      <td>3.732804</td>\n",
              "      <td>17.650384</td>\n",
              "    </tr>\n",
              "    <tr>\n",
              "      <th>46661</th>\n",
              "      <td>20034</td>\n",
              "      <td>0.195395</td>\n",
              "      <td>12.635714</td>\n",
              "      <td>0.384424</td>\n",
              "      <td>0.401780</td>\n",
              "      <td>0.482421</td>\n",
              "      <td>0.531798</td>\n",
              "      <td>0.484930</td>\n",
              "      <td>0.559704</td>\n",
              "      <td>0.954521</td>\n",
              "      <td>...</td>\n",
              "      <td>0.893106</td>\n",
              "      <td>1.000000</td>\n",
              "      <td>0.246884</td>\n",
              "      <td>0.254848</td>\n",
              "      <td>0.467442</td>\n",
              "      <td>0.339203</td>\n",
              "      <td>0.046453</td>\n",
              "      <td>0.706404</td>\n",
              "      <td>3.732804</td>\n",
              "      <td>17.650384</td>\n",
              "    </tr>\n",
              "    <tr>\n",
              "      <th>46662</th>\n",
              "      <td>20034</td>\n",
              "      <td>0.198164</td>\n",
              "      <td>12.635714</td>\n",
              "      <td>0.384424</td>\n",
              "      <td>0.401780</td>\n",
              "      <td>0.482421</td>\n",
              "      <td>0.531798</td>\n",
              "      <td>0.484930</td>\n",
              "      <td>0.559704</td>\n",
              "      <td>0.954521</td>\n",
              "      <td>...</td>\n",
              "      <td>0.893106</td>\n",
              "      <td>1.000000</td>\n",
              "      <td>0.246884</td>\n",
              "      <td>0.254848</td>\n",
              "      <td>0.467442</td>\n",
              "      <td>0.339203</td>\n",
              "      <td>0.046453</td>\n",
              "      <td>0.706404</td>\n",
              "      <td>3.732804</td>\n",
              "      <td>17.650384</td>\n",
              "    </tr>\n",
              "    <tr>\n",
              "      <th>46663</th>\n",
              "      <td>20034</td>\n",
              "      <td>0.128940</td>\n",
              "      <td>12.635714</td>\n",
              "      <td>0.384424</td>\n",
              "      <td>0.401780</td>\n",
              "      <td>0.482421</td>\n",
              "      <td>0.531798</td>\n",
              "      <td>0.484930</td>\n",
              "      <td>0.559704</td>\n",
              "      <td>0.954521</td>\n",
              "      <td>...</td>\n",
              "      <td>0.893106</td>\n",
              "      <td>1.000000</td>\n",
              "      <td>0.246884</td>\n",
              "      <td>0.254848</td>\n",
              "      <td>0.467442</td>\n",
              "      <td>0.339203</td>\n",
              "      <td>0.046453</td>\n",
              "      <td>0.706404</td>\n",
              "      <td>3.732804</td>\n",
              "      <td>17.650384</td>\n",
              "    </tr>\n",
              "    <tr>\n",
              "      <th>46664</th>\n",
              "      <td>20034</td>\n",
              "      <td>0.095712</td>\n",
              "      <td>12.635714</td>\n",
              "      <td>0.384424</td>\n",
              "      <td>0.401780</td>\n",
              "      <td>0.482421</td>\n",
              "      <td>0.531798</td>\n",
              "      <td>0.484930</td>\n",
              "      <td>0.559704</td>\n",
              "      <td>0.954521</td>\n",
              "      <td>...</td>\n",
              "      <td>0.893106</td>\n",
              "      <td>1.000000</td>\n",
              "      <td>0.246884</td>\n",
              "      <td>0.254848</td>\n",
              "      <td>0.467442</td>\n",
              "      <td>0.339203</td>\n",
              "      <td>0.046453</td>\n",
              "      <td>0.706404</td>\n",
              "      <td>3.732804</td>\n",
              "      <td>17.650384</td>\n",
              "    </tr>\n",
              "  </tbody>\n",
              "</table>\n",
              "<p>46665 rows × 25 columns</p>\n",
              "</div>"
            ],
            "text/plain": [
              "          ID       AMS   mean_IdD  HMerit_mean(m)  HMerit_stdev(m)  \\\n",
              "0       5001  0.209672  28.250000        0.401088         0.297265   \n",
              "1       5001  0.132265  28.250000        0.401088         0.297265   \n",
              "2       5002  0.209284  33.469565        0.161975         0.139420   \n",
              "3       5002  0.167469  33.469565        0.161975         0.139420   \n",
              "4       5002  0.197785  33.469565        0.161975         0.139420   \n",
              "...      ...       ...        ...             ...              ...   \n",
              "46660  20034  0.123402  12.635714        0.384424         0.401780   \n",
              "46661  20034  0.195395  12.635714        0.384424         0.401780   \n",
              "46662  20034  0.198164  12.635714        0.384424         0.401780   \n",
              "46663  20034  0.128940  12.635714        0.384424         0.401780   \n",
              "46664  20034  0.095712  12.635714        0.384424         0.401780   \n",
              "\n",
              "       Slope_mean(deg)  Slope_stdev(deg)  Aspect_mean(deg)  Aspect_stdev(deg)  \\\n",
              "0             0.346670          0.224577          0.842012           0.579848   \n",
              "1             0.346670          0.224577          0.842012           0.579848   \n",
              "2             0.194636          0.201272          0.713161           0.775561   \n",
              "3             0.194636          0.201272          0.713161           0.775561   \n",
              "4             0.194636          0.201272          0.713161           0.775561   \n",
              "...                ...               ...               ...                ...   \n",
              "46660         0.482421          0.531798          0.484930           0.559704   \n",
              "46661         0.482421          0.531798          0.484930           0.559704   \n",
              "46662         0.482421          0.531798          0.484930           0.559704   \n",
              "46663         0.482421          0.531798          0.484930           0.559704   \n",
              "46664         0.482421          0.531798          0.484930           0.559704   \n",
              "\n",
              "       MinDistAdriaticC_(km)  ...  OrograTirr_stdev(m)  OrograTirr_max(m)  \\\n",
              "0                   0.304203  ...             0.504882           0.480652   \n",
              "1                   0.304203  ...             0.504882           0.480652   \n",
              "2                   0.462353  ...             0.248748           0.302445   \n",
              "3                   0.462353  ...             0.248748           0.302445   \n",
              "4                   0.462353  ...             0.248748           0.302445   \n",
              "...                      ...  ...                  ...                ...   \n",
              "46660               0.954521  ...             0.893106           1.000000   \n",
              "46661               0.954521  ...             0.893106           1.000000   \n",
              "46662               0.954521  ...             0.893106           1.000000   \n",
              "46663               0.954521  ...             0.893106           1.000000   \n",
              "46664               0.954521  ...             0.893106           1.000000   \n",
              "\n",
              "        MAP(mm)  MASnowP(mm)  VarClimPT(mm)  VarClimSowP(mm)         X  \\\n",
              "0      0.638099     0.657211       0.658962         0.774572  0.603963   \n",
              "1      0.638099     0.657211       0.658962         0.774572  0.603963   \n",
              "2      0.445455     0.014482       0.448583         0.065894  0.455494   \n",
              "3      0.445455     0.014482       0.448583         0.065894  0.455494   \n",
              "4      0.445455     0.014482       0.448583         0.065894  0.455494   \n",
              "...         ...          ...            ...              ...       ...   \n",
              "46660  0.246884     0.254848       0.467442         0.339203  0.046453   \n",
              "46661  0.246884     0.254848       0.467442         0.339203  0.046453   \n",
              "46662  0.246884     0.254848       0.467442         0.339203  0.046453   \n",
              "46663  0.246884     0.254848       0.467442         0.339203  0.046453   \n",
              "46664  0.246884     0.254848       0.467442         0.339203  0.046453   \n",
              "\n",
              "              Y      alpha       beta  \n",
              "0      0.249077  15.996558  77.574629  \n",
              "1      0.249077  15.996558  77.574629  \n",
              "2      0.327658   5.432057  26.239425  \n",
              "3      0.327658   5.432057  26.239425  \n",
              "4      0.327658   5.432057  26.239425  \n",
              "...         ...        ...        ...  \n",
              "46660  0.706404   3.732804  17.650384  \n",
              "46661  0.706404   3.732804  17.650384  \n",
              "46662  0.706404   3.732804  17.650384  \n",
              "46663  0.706404   3.732804  17.650384  \n",
              "46664  0.706404   3.732804  17.650384  \n",
              "\n",
              "[46665 rows x 25 columns]"
            ]
          },
          "execution_count": 19,
          "metadata": {},
          "output_type": "execute_result"
        }
      ],
      "source": [
        "train_dfs_std['1']"
      ]
    },
    {
      "cell_type": "markdown",
      "metadata": {
        "id": "vI5AhW_4AJvS"
      },
      "source": [
        "## 1.3. Dataset inspection"
      ]
    },
    {
      "cell_type": "markdown",
      "metadata": {
        "id": "fj1R8kIrAJvS"
      },
      "source": [
        "#### Timeseries length distribution for each duration, both for training and validation"
      ]
    },
    {
      "cell_type": "code",
      "execution_count": 20,
      "metadata": {
        "id": "CfoVrOxV3oIl"
      },
      "outputs": [
        {
          "data": {
            "image/png": "[encoded data removed]",
            "text/plain": [
              "<Figure size 1500x400 with 5 Axes>"
            ]
          },
          "metadata": {},
          "output_type": "display_data"
        }
      ],
      "source": [
        "fig, axes = plt.subplots(1, 5, figsize=(15, 4))  # 1 row, 5 columns\n",
        "fig.suptitle(\"Timeseries length distribution for different durations\")\n",
        "\n",
        "for i, duration in enumerate(DURATION):\n",
        "    ax = axes[i]\n",
        "    ax.hist(train_dfs_std[f'{duration}']['ID'].value_counts(), bins='auto', alpha=0.5, label='train', color='red')\n",
        "    ax.hist(val_dfs_std[f'{duration}']['ID'].value_counts(), bins='auto', alpha=0.65, label='val', color='gray')\n",
        "    ax.legend()\n",
        "    ax.set_title(f\"Duration: {duration}h\")\n",
        "    ax.set_xlabel(\"Number of observations\")\n",
        "    ax.set_ylabel(\"Timeseries length\")\n",
        "\n",
        "plt.tight_layout()\n",
        "plt.show()"
      ]
    },
    {
      "cell_type": "markdown",
      "metadata": {
        "id": "qBEUr-wOAJvS"
      },
      "source": [
        "### MAP distribution for training and validation"
      ]
    },
    {
      "cell_type": "code",
      "execution_count": 21,
      "metadata": {
        "id": "9ea7H-c1AJvS"
      },
      "outputs": [
        {
          "data": {
            "image/png": "[encoded data removed]",
            "text/plain": [
              "<Figure size 640x480 with 1 Axes>"
            ]
          },
          "metadata": {},
          "output_type": "display_data"
        }
      ],
      "source": [
        "plt.hist(train_dfs_std['3']['MAP(mm)'], bins='auto', alpha=0.5, label='train', density=True, color='red')\n",
        "plt.hist(val_dfs_std['3']['MAP(mm)'], bins='auto', alpha=0.65, label='val', density=True, color='gray')\n",
        "plt.ylabel('Percentage')\n",
        "plt.title('MAP values')\n",
        "plt.xlabel('MAP (mm)')\n",
        "plt.legend()\n",
        "plt.show()"
      ]
    },
    {
      "cell_type": "markdown",
      "metadata": {
        "id": "mQo1W-HY7T6B"
      },
      "source": [
        "## 1.4. Prepare data for training"
      ]
    },
    {
      "cell_type": "code",
      "execution_count": 22,
      "metadata": {},
      "outputs": [
        {
          "data": {
            "text/plain": [
              "Index(['ID', 'AMS', 'mean_IdD', 'HMerit_mean(m)', 'HMerit_stdev(m)',\n",
              "       'Slope_mean(deg)', 'Slope_stdev(deg)', 'Aspect_mean(deg)',\n",
              "       'Aspect_stdev(deg)', 'MinDistAdriaticC_(km)', 'OrogrAdri_mean (m)',\n",
              "       'OrogrAdri_stdev(m)', 'OrogrAdri_max(m)', 'MinDistTirrenicC_(km)',\n",
              "       'OrograTirr_mean(m)', 'OrograTirr_stdev(m)', 'OrograTirr_max(m)',\n",
              "       'MAP(mm)', 'MASnowP(mm)', 'VarClimPT(mm)', 'VarClimSowP(mm)', 'X', 'Y',\n",
              "       'alpha', 'beta'],\n",
              "      dtype='object')"
            ]
          },
          "execution_count": 22,
          "metadata": {},
          "output_type": "execute_result"
        }
      ],
      "source": [
        "train_dfs_std['1'].columns"
      ]
    },
    {
      "cell_type": "code",
      "execution_count": 23,
      "metadata": {
        "id": "xe8yXdax3oIm"
      },
      "outputs": [
        {
          "name": "stdout",
          "output_type": "stream",
          "text": [
            "Input columns:  Index(['HMerit_mean(m)', 'HMerit_stdev(m)', 'Slope_mean(deg)',\n",
            "       'Slope_stdev(deg)', 'Aspect_mean(deg)', 'Aspect_stdev(deg)',\n",
            "       'MinDistAdriaticC_(km)', 'OrogrAdri_mean (m)', 'OrogrAdri_stdev(m)',\n",
            "       'OrogrAdri_max(m)', 'MinDistTirrenicC_(km)', 'OrograTirr_mean(m)',\n",
            "       'OrograTirr_stdev(m)', 'OrograTirr_max(m)', 'MAP(mm)', 'MASnowP(mm)',\n",
            "       'VarClimPT(mm)', 'VarClimSowP(mm)', 'X', 'Y'],\n",
            "      dtype='object')\n"
          ]
        }
      ],
      "source": [
        "# take all the columns except 'ID', 'AMS', 'mean_IdD' as input, and 'AMS' as output\n",
        "columns = train_dfs_std['1'].columns\n",
        "input_columns = columns[3:-2]\n",
        "output_column = 'AMS'\n",
        "parameters_columns = ['alpha', 'beta']\n",
        "print('Input columns: ', input_columns)"
      ]
    },
    {
      "cell_type": "code",
      "execution_count": 24,
      "metadata": {
        "id": "Y6bcxoFg3oIm"
      },
      "outputs": [],
      "source": [
        "inputs_train = {}\n",
        "outputs_train = {}\n",
        "parameters_train = {}\n",
        "for duration in DURATION:\n",
        "    inputs_train[f'{duration}'] = train_dfs_std[f'{duration}'][input_columns]\n",
        "    outputs_train[f'{duration}'] = train_dfs_std[f'{duration}'][output_column]\n",
        "    parameters_train[f'{duration}'] = train_dfs_std[f'{duration}'][parameters_columns]\n",
        "\n",
        "inputs_val = {}\n",
        "outputs_val = {}\n",
        "parameters_val = {}\n",
        "for duration in DURATION:\n",
        "    inputs_val[f'{duration}'] = val_dfs_std[f'{duration}'][input_columns]\n",
        "    outputs_val[f'{duration}'] = val_dfs_std[f'{duration}'][output_column]\n",
        "    parameters_val[f'{duration}'] = val_dfs_std[f'{duration}'][parameters_columns]\n",
        "\n",
        "inputs_test = {}\n",
        "outputs_test = {}\n",
        "parameters_test = {}\n",
        "for duration in DURATION:\n",
        "    inputs_test[f'{duration}'] = test_dfs_std[f'{duration}'][input_columns]\n",
        "    outputs_test[f'{duration}'] = test_dfs_std[f'{duration}'][output_column]\n",
        "    parameters_test[f'{duration}'] = test_dfs_std[f'{duration}'][parameters_columns]"
      ]
    },
    {
      "cell_type": "code",
      "execution_count": 25,
      "metadata": {
        "id": "4o9stget3oIm"
      },
      "outputs": [
        {
          "data": {
            "text/html": [
              "<div>\n",
              "<style scoped>\n",
              "    .dataframe tbody tr th:only-of-type {\n",
              "        vertical-align: middle;\n",
              "    }\n",
              "\n",
              "    .dataframe tbody tr th {\n",
              "        vertical-align: top;\n",
              "    }\n",
              "\n",
              "    .dataframe thead th {\n",
              "        text-align: right;\n",
              "    }\n",
              "</style>\n",
              "<table border=\"1\" class=\"dataframe\">\n",
              "  <thead>\n",
              "    <tr style=\"text-align: right;\">\n",
              "      <th></th>\n",
              "      <th>HMerit_mean(m)</th>\n",
              "      <th>HMerit_stdev(m)</th>\n",
              "      <th>Slope_mean(deg)</th>\n",
              "      <th>Slope_stdev(deg)</th>\n",
              "      <th>Aspect_mean(deg)</th>\n",
              "      <th>Aspect_stdev(deg)</th>\n",
              "      <th>MinDistAdriaticC_(km)</th>\n",
              "      <th>OrogrAdri_mean (m)</th>\n",
              "      <th>OrogrAdri_stdev(m)</th>\n",
              "      <th>OrogrAdri_max(m)</th>\n",
              "      <th>MinDistTirrenicC_(km)</th>\n",
              "      <th>OrograTirr_mean(m)</th>\n",
              "      <th>OrograTirr_stdev(m)</th>\n",
              "      <th>OrograTirr_max(m)</th>\n",
              "      <th>MAP(mm)</th>\n",
              "      <th>MASnowP(mm)</th>\n",
              "      <th>VarClimPT(mm)</th>\n",
              "      <th>VarClimSowP(mm)</th>\n",
              "      <th>X</th>\n",
              "      <th>Y</th>\n",
              "    </tr>\n",
              "  </thead>\n",
              "  <tbody>\n",
              "    <tr>\n",
              "      <th>0</th>\n",
              "      <td>0.401088</td>\n",
              "      <td>0.297265</td>\n",
              "      <td>0.346670</td>\n",
              "      <td>0.224577</td>\n",
              "      <td>0.842012</td>\n",
              "      <td>0.579848</td>\n",
              "      <td>0.304203</td>\n",
              "      <td>0.342076</td>\n",
              "      <td>0.437630</td>\n",
              "      <td>0.507912</td>\n",
              "      <td>0.151045</td>\n",
              "      <td>0.373266</td>\n",
              "      <td>0.504882</td>\n",
              "      <td>0.480652</td>\n",
              "      <td>0.638099</td>\n",
              "      <td>0.657211</td>\n",
              "      <td>0.658962</td>\n",
              "      <td>0.774572</td>\n",
              "      <td>0.603963</td>\n",
              "      <td>0.249077</td>\n",
              "    </tr>\n",
              "    <tr>\n",
              "      <th>1</th>\n",
              "      <td>0.401088</td>\n",
              "      <td>0.297265</td>\n",
              "      <td>0.346670</td>\n",
              "      <td>0.224577</td>\n",
              "      <td>0.842012</td>\n",
              "      <td>0.579848</td>\n",
              "      <td>0.304203</td>\n",
              "      <td>0.342076</td>\n",
              "      <td>0.437630</td>\n",
              "      <td>0.507912</td>\n",
              "      <td>0.151045</td>\n",
              "      <td>0.373266</td>\n",
              "      <td>0.504882</td>\n",
              "      <td>0.480652</td>\n",
              "      <td>0.638099</td>\n",
              "      <td>0.657211</td>\n",
              "      <td>0.658962</td>\n",
              "      <td>0.774572</td>\n",
              "      <td>0.603963</td>\n",
              "      <td>0.249077</td>\n",
              "    </tr>\n",
              "    <tr>\n",
              "      <th>2</th>\n",
              "      <td>0.401088</td>\n",
              "      <td>0.297265</td>\n",
              "      <td>0.346670</td>\n",
              "      <td>0.224577</td>\n",
              "      <td>0.842012</td>\n",
              "      <td>0.579848</td>\n",
              "      <td>0.304203</td>\n",
              "      <td>0.342076</td>\n",
              "      <td>0.437630</td>\n",
              "      <td>0.507912</td>\n",
              "      <td>0.151045</td>\n",
              "      <td>0.373266</td>\n",
              "      <td>0.504882</td>\n",
              "      <td>0.480652</td>\n",
              "      <td>0.638099</td>\n",
              "      <td>0.657211</td>\n",
              "      <td>0.658962</td>\n",
              "      <td>0.774572</td>\n",
              "      <td>0.603963</td>\n",
              "      <td>0.249077</td>\n",
              "    </tr>\n",
              "    <tr>\n",
              "      <th>3</th>\n",
              "      <td>0.401088</td>\n",
              "      <td>0.297265</td>\n",
              "      <td>0.346670</td>\n",
              "      <td>0.224577</td>\n",
              "      <td>0.842012</td>\n",
              "      <td>0.579848</td>\n",
              "      <td>0.304203</td>\n",
              "      <td>0.342076</td>\n",
              "      <td>0.437630</td>\n",
              "      <td>0.507912</td>\n",
              "      <td>0.151045</td>\n",
              "      <td>0.373266</td>\n",
              "      <td>0.504882</td>\n",
              "      <td>0.480652</td>\n",
              "      <td>0.638099</td>\n",
              "      <td>0.657211</td>\n",
              "      <td>0.658962</td>\n",
              "      <td>0.774572</td>\n",
              "      <td>0.603963</td>\n",
              "      <td>0.249077</td>\n",
              "    </tr>\n",
              "    <tr>\n",
              "      <th>4</th>\n",
              "      <td>0.161975</td>\n",
              "      <td>0.139420</td>\n",
              "      <td>0.194636</td>\n",
              "      <td>0.201272</td>\n",
              "      <td>0.713161</td>\n",
              "      <td>0.775561</td>\n",
              "      <td>0.462353</td>\n",
              "      <td>0.272740</td>\n",
              "      <td>0.394987</td>\n",
              "      <td>0.403354</td>\n",
              "      <td>0.095174</td>\n",
              "      <td>0.256323</td>\n",
              "      <td>0.248748</td>\n",
              "      <td>0.302445</td>\n",
              "      <td>0.445455</td>\n",
              "      <td>0.014482</td>\n",
              "      <td>0.448583</td>\n",
              "      <td>0.065894</td>\n",
              "      <td>0.455494</td>\n",
              "      <td>0.327658</td>\n",
              "    </tr>\n",
              "  </tbody>\n",
              "</table>\n",
              "</div>"
            ],
            "text/plain": [
              "   HMerit_mean(m)  HMerit_stdev(m)  Slope_mean(deg)  Slope_stdev(deg)  \\\n",
              "0        0.401088         0.297265         0.346670          0.224577   \n",
              "1        0.401088         0.297265         0.346670          0.224577   \n",
              "2        0.401088         0.297265         0.346670          0.224577   \n",
              "3        0.401088         0.297265         0.346670          0.224577   \n",
              "4        0.161975         0.139420         0.194636          0.201272   \n",
              "\n",
              "   Aspect_mean(deg)  Aspect_stdev(deg)  MinDistAdriaticC_(km)  \\\n",
              "0          0.842012           0.579848               0.304203   \n",
              "1          0.842012           0.579848               0.304203   \n",
              "2          0.842012           0.579848               0.304203   \n",
              "3          0.842012           0.579848               0.304203   \n",
              "4          0.713161           0.775561               0.462353   \n",
              "\n",
              "   OrogrAdri_mean (m)  OrogrAdri_stdev(m)  OrogrAdri_max(m)  \\\n",
              "0            0.342076            0.437630          0.507912   \n",
              "1            0.342076            0.437630          0.507912   \n",
              "2            0.342076            0.437630          0.507912   \n",
              "3            0.342076            0.437630          0.507912   \n",
              "4            0.272740            0.394987          0.403354   \n",
              "\n",
              "   MinDistTirrenicC_(km)  OrograTirr_mean(m)  OrograTirr_stdev(m)  \\\n",
              "0               0.151045            0.373266             0.504882   \n",
              "1               0.151045            0.373266             0.504882   \n",
              "2               0.151045            0.373266             0.504882   \n",
              "3               0.151045            0.373266             0.504882   \n",
              "4               0.095174            0.256323             0.248748   \n",
              "\n",
              "   OrograTirr_max(m)   MAP(mm)  MASnowP(mm)  VarClimPT(mm)  VarClimSowP(mm)  \\\n",
              "0           0.480652  0.638099     0.657211       0.658962         0.774572   \n",
              "1           0.480652  0.638099     0.657211       0.658962         0.774572   \n",
              "2           0.480652  0.638099     0.657211       0.658962         0.774572   \n",
              "3           0.480652  0.638099     0.657211       0.658962         0.774572   \n",
              "4           0.302445  0.445455     0.014482       0.448583         0.065894   \n",
              "\n",
              "          X         Y  \n",
              "0  0.603963  0.249077  \n",
              "1  0.603963  0.249077  \n",
              "2  0.603963  0.249077  \n",
              "3  0.603963  0.249077  \n",
              "4  0.455494  0.327658  "
            ]
          },
          "execution_count": 25,
          "metadata": {},
          "output_type": "execute_result"
        }
      ],
      "source": [
        "inputs_train['3'].head()"
      ]
    },
    {
      "cell_type": "markdown",
      "metadata": {
        "id": "arEwpTZX-PdO"
      },
      "source": [
        "# 2. Model definition"
      ]
    },
    {
      "cell_type": "markdown",
      "metadata": {
        "id": "fsB8zqJj9tYa"
      },
      "source": [
        "#### Base model"
      ]
    },
    {
      "cell_type": "code",
      "execution_count": 28,
      "metadata": {
        "id": "sdpYiwdCNjB0"
      },
      "outputs": [],
      "source": [
        "def build_nn_beta_model(input_shape, hidden):\n",
        "    model_in = keras.Input(shape=input_shape, dtype='float64')\n",
        "    x = model_in\n",
        "    for h in hidden:\n",
        "        x = layers.Dense(h, activation='relu')(x)\n",
        "        x = layers.BatchNormalization()(x)\n",
        "    alpha_beta = layers.Dense(2, activation='exponential')(x)\n",
        "\n",
        "    lf = lambda t: tfp.distributions.Beta(concentration0=t[:,0:1], concentration1=t[:,1:2], validate_args=True, allow_nan_stats=False)\n",
        "    model_out = tfp.layers.DistributionLambda(lf)(alpha_beta)\n",
        "    model = keras.Model(model_in, model_out)\n",
        "    return model"
      ]
    },
    {
      "cell_type": "markdown",
      "metadata": {},
      "source": [
        "# 3. Metrics "
      ]
    },
    {
      "cell_type": "code",
      "execution_count": 29,
      "metadata": {},
      "outputs": [],
      "source": [
        "def sample_metrics(dist, y, label, color, plot = True):\n",
        "    num_samples = 1\n",
        "    y_pred = dist.sample(num_samples).numpy().ravel()\n",
        "    \n",
        "    mae = metrics.mean_absolute_error(y, y_pred)\n",
        "    ks_statistics, _ = stats.ks_2samp(y, y_pred)\n",
        "\n",
        "    if plot:\n",
        "        plt.hist(y, bins='auto', alpha=0.7, label=label, density=True, color='green');\n",
        "        #sns.kdeplot(y_pred, label='Estimated sample', fill=True)\n",
        "        plt.hist(y_pred, bins='auto', alpha=0.5, label='Predicted', density=True, color=color);\n",
        "        plt.legend()\n",
        "        plt.show()\n",
        "\n",
        "    return mae, ks_statistics\n",
        "\n",
        "def plot_series(data, labels=None, predictions=None, figsize=None, filled_version=None, std=None, ci=None, title=None, ylim=None):\n",
        "    \n",
        "    plt.figure(figsize=figsize)\n",
        "    plt.plot(data.index, data.values, zorder=0)\n",
        "    \n",
        "    if filled_version is not None:\n",
        "        filled = filled_version.copy()\n",
        "        filled[~data['value'].isnull()] = np.nan\n",
        "        plt.scatter(filled.index, filled, marker='.', c='tab:orange', s=5);\n",
        "    \n",
        "    # Plot standard deviations\n",
        "    if std is not None:\n",
        "        lb = data.values.ravel() - std.values.ravel()\n",
        "        ub = data.values.ravel() + std.values.ravel()\n",
        "        plt.fill_between(data.index, lb, ub, alpha=0.3, label='+/- std')\n",
        "    \n",
        "    # Plot confidence intervals\n",
        "    if ci is not None:\n",
        "        lb = ci[0].ravel()\n",
        "        ub = ci[1].ravel()\n",
        "        plt.fill_between(data.index, lb, ub, alpha=0.3, label='C.I.')\n",
        "    \n",
        "    # Rotated x ticks\n",
        "    plt.xticks(rotation=45)\n",
        "    \n",
        "    # Plot labels\n",
        "    if labels is not None:\n",
        "        plt.scatter(labels.values, data.loc[labels], color='red', zorder=2, s=5)\n",
        "    \n",
        "    # Predictions\n",
        "    if predictions is not None:\n",
        "        plt.scatter(predictions.values, data.loc[predictions], color='black', alpha=.4, zorder=3, s=5)\n",
        "    \n",
        "    # Force y limits\n",
        "    if ylim is not None:\n",
        "        plt.ylim(*ylim)\n",
        "    \n",
        "    plt.grid(linestyle=':')\n",
        "    plt.title(title)\n",
        "    plt.tight_layout()\n",
        "\n",
        "def percentage_in_ci(inputs, y, dist, confidence, distribution = 'beta', start = None, end = None, plot = True, num_samples=1):\n",
        "    \n",
        "    if start is None:\n",
        "        start = 0\n",
        "    if end is None:\n",
        "        end = len(y)\n",
        "\n",
        "    if distribution == 'beta':\n",
        "        lb, ub = stats.beta.interval(confidence, a=dist.concentration1, b=dist.concentration0)\n",
        "        mean_dist = dist.mean().numpy().ravel()\n",
        "        y_pred = dist.sample(num_samples).numpy().ravel()\n",
        "\n",
        "        if plot:\n",
        "            plot_series(pd.Series(index=inputs[start:end].index, data=mean_dist[start:end]), ci=(lb[start:end], ub[start:end]), figsize=(12,6))\n",
        "            plt.scatter(inputs[start:end].index, y_pred[start:end], marker='o', color='blue', label='Predicted');\n",
        "            plt.scatter(inputs[start:end].index, y[start:end], marker='x', color='red', label='True');\n",
        "            plt.legend()\n",
        "            plt.show()\n",
        "    \n",
        "        count_true = 0\n",
        "        for i in range(len(y)):\n",
        "            if lb[i] <= y[i] <= ub[i]:\n",
        "                count_true += 1\n",
        "        \n",
        "        true_guess = count_true/len(y)*100\n",
        "\n",
        "        return true_guess"
      ]
    },
    {
      "cell_type": "markdown",
      "metadata": {
        "id": "NPG5yXc55LRe"
      },
      "source": [
        "# 4. Training"
      ]
    },
    {
      "cell_type": "code",
      "execution_count": 30,
      "metadata": {
        "id": "AjzEVauaJOhV"
      },
      "outputs": [],
      "source": [
        "def train_nn_model(model, X, y, batch_size, loss, lr, verbose=0, patience=10, validation_data=None, **fit_params):\n",
        "    # Compile the model\n",
        "    model.compile(optimizer=tf.keras.optimizers.Adam(learning_rate=lr), loss=loss)\n",
        "    \n",
        "    # Build the early stop callback\n",
        "    cb = []\n",
        "    if validation_split is not None:\n",
        "        cb += [callbacks.EarlyStopping(patience=patience, restore_best_weights=True)]\n",
        "    \n",
        "    # Train the model\n",
        "    history = model.fit(X, y, batch_size=batch_size, callbacks=cb, validation_data=validation_data, verbose=verbose, **fit_params)\n",
        "    \n",
        "    return history\n",
        "\n",
        "def plot_training_history(history=None, figsize=None, print_final_scores=True):\n",
        "    plt.figure(figsize=figsize)\n",
        "    for metric in history.history.keys():\n",
        "        plt.plot(history.history[metric], label=metric)\n",
        "    \n",
        "    if len(history.history.keys()) > 0:\n",
        "        plt.legend()\n",
        "    plt.xlabel('epochs')\n",
        "    plt.grid(linestyle=':')\n",
        "    plt.tight_layout()\n",
        "    plt.show()\n",
        "    \n",
        "    if print_final_scores:\n",
        "        trl = history.history[\"loss\"][-1]\n",
        "        s = f'Final loss: {trl:.4f} (training)'\n",
        "        if 'val_loss' in history.history:\n",
        "            vll = history.history[\"val_loss\"][-1]\n",
        "            s += f', {vll:.4f} (validation)'\n",
        "        print(s)"
      ]
    },
    {
      "cell_type": "markdown",
      "metadata": {},
      "source": [
        "# Duration 3 "
      ]
    },
    {
      "cell_type": "markdown",
      "metadata": {},
      "source": [
        "## Training"
      ]
    },
    {
      "cell_type": "code",
      "execution_count": 33,
      "metadata": {},
      "outputs": [],
      "source": [
        "duration = '3'\n",
        "\n",
        "X_train = inputs_train[duration].values\n",
        "y_train  = outputs_train[duration].values\n",
        "X_val = inputs_val[duration].values\n",
        "y_val = outputs_val[duration].values\n",
        "X_test = inputs_test[duration].values\n",
        "y_test = outputs_test[duration].values"
      ]
    },
    {
      "cell_type": "code",
      "execution_count": 34,
      "metadata": {},
      "outputs": [
        {
          "name": "stdout",
          "output_type": "stream",
          "text": [
            "Training the model without the guesses...\n",
            "Epoch 1/20\n",
            "183/183 [==============================] - 4s 9ms/step - loss: -0.2690 - val_loss: -0.4387\n",
            "Epoch 2/20\n",
            "183/183 [==============================] - 1s 5ms/step - loss: -0.8610 - val_loss: -0.8995\n",
            "Epoch 3/20\n",
            "183/183 [==============================] - 1s 4ms/step - loss: -1.2445 - val_loss: -1.1426\n",
            "Epoch 4/20\n",
            "183/183 [==============================] - 1s 4ms/step - loss: -1.3491 - val_loss: -1.1868\n",
            "Epoch 5/20\n",
            "183/183 [==============================] - 1s 5ms/step - loss: -1.3703 - val_loss: -1.1723\n",
            "Epoch 6/20\n",
            "183/183 [==============================] - 1s 5ms/step - loss: -1.3793 - val_loss: -1.1708\n",
            "Epoch 7/20\n",
            "183/183 [==============================] - 1s 4ms/step - loss: -1.3868 - val_loss: -1.1952\n",
            "Epoch 8/20\n",
            "183/183 [==============================] - 1s 5ms/step - loss: -1.3887 - val_loss: -1.2190\n",
            "Epoch 9/20\n",
            "183/183 [==============================] - 1s 6ms/step - loss: -1.3911 - val_loss: -1.2735\n",
            "Epoch 10/20\n",
            "183/183 [==============================] - 1s 7ms/step - loss: -1.3941 - val_loss: -1.1809\n",
            "Epoch 11/20\n",
            "183/183 [==============================] - 1s 5ms/step - loss: -1.3952 - val_loss: -1.2224\n",
            "Epoch 12/20\n",
            "183/183 [==============================] - 1s 4ms/step - loss: -1.3966 - val_loss: -1.2184\n",
            "Epoch 13/20\n",
            "183/183 [==============================] - 1s 4ms/step - loss: -1.3985 - val_loss: -1.2497\n",
            "Epoch 14/20\n",
            "183/183 [==============================] - 1s 4ms/step - loss: -1.4003 - val_loss: -1.2279\n",
            "Epoch 15/20\n",
            "183/183 [==============================] - 1s 4ms/step - loss: -1.3979 - val_loss: -1.2340\n",
            "Epoch 16/20\n",
            "183/183 [==============================] - 1s 4ms/step - loss: -1.4012 - val_loss: -1.2318\n",
            "Epoch 17/20\n",
            "183/183 [==============================] - 1s 4ms/step - loss: -1.4002 - val_loss: -1.2263\n",
            "Epoch 18/20\n",
            "183/183 [==============================] - 1s 5ms/step - loss: -1.4021 - val_loss: -1.2249\n",
            "Epoch 19/20\n",
            "183/183 [==============================] - 1s 4ms/step - loss: -1.4019 - val_loss: -1.2290\n"
          ]
        },
        {
          "data": {
            "image/png": "[encoded data removed]",
            "text/plain": [
              "<Figure size 1400x400 with 1 Axes>"
            ]
          },
          "metadata": {},
          "output_type": "display_data"
        },
        {
          "name": "stdout",
          "output_type": "stream",
          "text": [
            "Final loss: -1.4019 (training), -1.2290 (validation)\n"
          ]
        }
      ],
      "source": [
        "# Parameters for the training\n",
        "batch_size = 256\n",
        "epochs = 20\n",
        "lr = 1e-3\n",
        "loss_prof = lambda y_true, dist: -dist.log_prob(y_true)\n",
        "\n",
        "print('Training the model without the guesses...')\n",
        "model = build_nn_beta_model(input_shape=(X_train.shape[1],), hidden=[64, 32])\n",
        "history = train_nn_model(model, X_train, y_train, batch_size, loss_prof, lr, verbose=1, patience=10, validation_data=(X_val, y_val), epochs=epochs)\n",
        "plot_training_history(history, figsize=(14, 4))"
      ]
    },
    {
      "cell_type": "markdown",
      "metadata": {},
      "source": [
        "* Train evaluation"
      ]
    },
    {
      "cell_type": "code",
      "execution_count": 36,
      "metadata": {},
      "outputs": [
        {
          "name": "stdout",
          "output_type": "stream",
          "text": [
            "Evaluating the models on training set...\n"
          ]
        },
        {
          "data": {
            "image/png": "[encoded data removed]",
            "text/plain": [
              "<Figure size 640x480 with 1 Axes>"
            ]
          },
          "metadata": {},
          "output_type": "display_data"
        },
        {
          "name": "stdout",
          "output_type": "stream",
          "text": [
            "Train:\n",
            "MAE: 0.07\n",
            "KS statistics: 0.07\n"
          ]
        }
      ],
      "source": [
        "print('Evaluating the models on training set...')\n",
        "\n",
        "dist_train = model(X_train)\n",
        "mae_train, ks_statist_train = sample_metrics(dist_train, y_train, 'Train - Ground Truth', 'red')\n",
        "print('Train:')\n",
        "print(f'MAE: {mae_train:.2f}')\n",
        "print(f'KS statistics: {ks_statist_train:.2f}')\n",
        "\n",
        "# Store the results in a dataframe\n",
        "results = pd.DataFrame(columns=['Split', 'MAE', 'KS statistics'])\n",
        "\n",
        "train_no_guess = ['Train', mae_train, ks_statist_train]\n",
        "results.loc[0] = train_no_guess"
      ]
    },
    {
      "cell_type": "markdown",
      "metadata": {},
      "source": [
        "* Validation evaluation"
      ]
    },
    {
      "cell_type": "code",
      "execution_count": 38,
      "metadata": {},
      "outputs": [
        {
          "name": "stdout",
          "output_type": "stream",
          "text": [
            "Evaluating the models on validation set...\n"
          ]
        },
        {
          "data": {
            "image/png": "[encoded data removed]",
            "text/plain": [
              "<Figure size 640x480 with 1 Axes>"
            ]
          },
          "metadata": {},
          "output_type": "display_data"
        },
        {
          "name": "stdout",
          "output_type": "stream",
          "text": [
            "Validation:\n",
            "MAE: 0.07\n",
            "KS statistics: 0.10\n"
          ]
        }
      ],
      "source": [
        "print('Evaluating the models on validation set...')\n",
        "\n",
        "dist_val = model(X_val)\n",
        "mae_val, ks_statist_val = sample_metrics(dist_val, y_val, 'Validation - Ground Truth', 'blue')\n",
        "print('Validation:')\n",
        "print(f'MAE: {mae_val:.2f}')\n",
        "print(f'KS statistics: {ks_statist_val:.2f}')\n",
        "\n",
        "val_no_guess = ['Validation', mae_val, ks_statist_val]\n",
        "results.loc[1] = val_no_guess"
      ]
    },
    {
      "cell_type": "markdown",
      "metadata": {},
      "source": [
        "## Evaluation and predictions on test set"
      ]
    },
    {
      "cell_type": "code",
      "execution_count": 39,
      "metadata": {},
      "outputs": [
        {
          "name": "stdout",
          "output_type": "stream",
          "text": [
            "Evaluating the models on test set...\n"
          ]
        },
        {
          "data": {
            "image/png": "[encoded data removed]",
            "text/plain": [
              "<Figure size 640x480 with 1 Axes>"
            ]
          },
          "metadata": {},
          "output_type": "display_data"
        },
        {
          "name": "stdout",
          "output_type": "stream",
          "text": [
            "Test:\n",
            "MAE: 0.08\n",
            "KS statistics: 0.08\n"
          ]
        }
      ],
      "source": [
        "print('Evaluating the models on test set...')\n",
        "\n",
        "dist_test = model(X_test)\n",
        "mae_test, ks_statist_test = sample_metrics(dist_test, y_test, 'Test - Ground Truth', 'yellow')\n",
        "print('Test:')\n",
        "print(f'MAE: {mae_test:.2f}')\n",
        "print(f'KS statistics: {ks_statist_test:.2f}')\n",
        "\n",
        "test_no_guess = ['Test', mae_test, ks_statist_test]\n",
        "results.loc[2] = test_no_guess"
      ]
    },
    {
      "cell_type": "code",
      "execution_count": 40,
      "metadata": {},
      "outputs": [
        {
          "data": {
            "text/html": [
              "<div>\n",
              "<style scoped>\n",
              "    .dataframe tbody tr th:only-of-type {\n",
              "        vertical-align: middle;\n",
              "    }\n",
              "\n",
              "    .dataframe tbody tr th {\n",
              "        vertical-align: top;\n",
              "    }\n",
              "\n",
              "    .dataframe thead th {\n",
              "        text-align: right;\n",
              "    }\n",
              "</style>\n",
              "<table border=\"1\" class=\"dataframe\">\n",
              "  <thead>\n",
              "    <tr style=\"text-align: right;\">\n",
              "      <th></th>\n",
              "      <th>Split</th>\n",
              "      <th>MAE</th>\n",
              "      <th>KS statistics</th>\n",
              "    </tr>\n",
              "  </thead>\n",
              "  <tbody>\n",
              "    <tr>\n",
              "      <th>0</th>\n",
              "      <td>Train</td>\n",
              "      <td>0.069583</td>\n",
              "      <td>0.066159</td>\n",
              "    </tr>\n",
              "    <tr>\n",
              "      <th>2</th>\n",
              "      <td>Test</td>\n",
              "      <td>0.081285</td>\n",
              "      <td>0.082712</td>\n",
              "    </tr>\n",
              "    <tr>\n",
              "      <th>1</th>\n",
              "      <td>Validation</td>\n",
              "      <td>0.071260</td>\n",
              "      <td>0.095275</td>\n",
              "    </tr>\n",
              "  </tbody>\n",
              "</table>\n",
              "</div>"
            ],
            "text/plain": [
              "        Split       MAE  KS statistics\n",
              "0       Train  0.069583       0.066159\n",
              "2        Test  0.081285       0.082712\n",
              "1  Validation  0.071260       0.095275"
            ]
          },
          "metadata": {},
          "output_type": "display_data"
        }
      ],
      "source": [
        "display(results)"
      ]
    },
    {
      "cell_type": "markdown",
      "metadata": {},
      "source": [
        "* Distribution mean - confidence interval "
      ]
    },
    {
      "cell_type": "code",
      "execution_count": 41,
      "metadata": {},
      "outputs": [
        {
          "name": "stdout",
          "output_type": "stream",
          "text": [
            "Evaluation based on confidence intervals..\n"
          ]
        },
        {
          "data": {
            "image/png": "[encoded data removed]",
            "text/plain": [
              "<Figure size 1200x600 with 1 Axes>"
            ]
          },
          "metadata": {},
          "output_type": "display_data"
        },
        {
          "name": "stdout",
          "output_type": "stream",
          "text": [
            "Percentage of values inside the 99% confidence interval: 93.90%\n"
          ]
        }
      ],
      "source": [
        "confidence = 0.99\n",
        "\n",
        "print('Evaluation based on confidence intervals..')\n",
        "\n",
        "inside = percentage_in_ci(inputs_test[duration], y_test, dist_test, confidence, end = 500)\n",
        "print(f'Percentage of values inside the {confidence*100:.0f}% confidence interval: {inside:.2f}%')"
      ]
    },
    {
      "cell_type": "markdown",
      "metadata": {},
      "source": [
        "### Parameters"
      ]
    },
    {
      "cell_type": "code",
      "execution_count": 43,
      "metadata": {},
      "outputs": [
        {
          "data": {
            "image/png": "[encoded data removed]",
            "text/plain": [
              "<Figure size 640x480 with 1 Axes>"
            ]
          },
          "metadata": {},
          "output_type": "display_data"
        },
        {
          "data": {
            "image/png": "[encoded data removed]",
            "text/plain": [
              "<Figure size 640x480 with 1 Axes>"
            ]
          },
          "metadata": {},
          "output_type": "display_data"
        }
      ],
      "source": [
        "a_pred = dist_train.concentration1.numpy()\n",
        "b_pred = dist_train.concentration0.numpy()\n",
        "\n",
        "# scatter plot of the predicted alpha values\n",
        "plt.scatter(a_pred, parameters_train[duration]['alpha'], color='red', label='alpha', marker='x')\n",
        "plt.xlabel('Predicted alpha')\n",
        "plt.ylabel('True alpha')\n",
        "plt.legend()\n",
        "plt.title('Scatter plot of the predicted alpha values')\n",
        "plt.show()\n",
        "\n",
        "# scatter plot of the predicted beta values\n",
        "plt.scatter(b_pred, parameters_train[duration]['beta'], color='blue', label='beta', marker='x')\n",
        "plt.xlabel('Predicted beta')\n",
        "plt.ylabel('True beta')\n",
        "plt.legend()\n",
        "plt.title('Scatter plot of the predicted beta values')\n",
        "plt.show()"
      ]
    },
    {
      "cell_type": "markdown",
      "metadata": {},
      "source": [
        "* Comparison between two samples extracted from \"true\" and predicted distribution of the same place "
      ]
    },
    {
      "cell_type": "code",
      "execution_count": null,
      "metadata": {},
      "outputs": [
        {
          "name": "stdout",
          "output_type": "stream",
          "text": [
            "True alpha:  35.32591951865381 Predicted alpha:  5.166354\n",
            "True beta:  175.14293774360056 Predicted beta:  24.651278\n"
          ]
        },
        {
          "data": {
            "image/png": "[encoded data removed]",
            "text/plain": [
              "<Figure size 640x480 with 1 Axes>"
            ]
          },
          "metadata": {},
          "output_type": "display_data"
        }
      ],
      "source": [
        "index = 1\n",
        "\n",
        "a_pred = dist_train.concentration1.numpy().ravel()[index]\n",
        "b_pred = dist_train.concentration0.numpy().ravel()[index]\n",
        "\n",
        "a_true = parameters_train[duration]['alpha'][index]\n",
        "b_true = parameters_train[duration]['beta'][index]\n",
        "\n",
        "print('True alpha: ', a_true, 'Predicted alpha: ', a_pred)\n",
        "print('True beta: ', b_true, 'Predicted beta: ', b_pred)\n",
        "\n",
        "samples_pred = stats.beta.rvs(a=a_pred, b=b_pred, size=10000)\n",
        "samples_true = stats.beta.rvs(a=a_true, b=b_true, size=10000)\n",
        "\n",
        "plt.hist(samples_true, bins='auto', alpha=0.7, label='True', density=True, color='green');\n",
        "plt.hist(samples_pred, bins='auto', alpha=0.5, label='Predicted', density=True, color='blue');\n",
        "plt.legend()\n",
        "plt.show()"
      ]
    },
    {
      "cell_type": "markdown",
      "metadata": {},
      "source": [
        "* Metrics for parameters"
      ]
    },
    {
      "cell_type": "code",
      "execution_count": null,
      "metadata": {},
      "outputs": [
        {
          "name": "stdout",
          "output_type": "stream",
          "text": [
            "Biasr for the alpha parameter: -0.25\n",
            "RMSE for the alpha parameter: 2.51\n",
            "PCC for the alpha parameter: 0.37\n"
          ]
        }
      ],
      "source": [
        "# calculate the biasr for the ALPHA parameter\n",
        "\n",
        "a_true = parameters_test[duration]['alpha'].to_numpy()\n",
        "a_pred = dist_test.concentration1.numpy().ravel()\n",
        "\n",
        "# calculate the biasr\n",
        "biasr = ((a_true - a_pred) / a_true).mean()\n",
        "print(f'Biasr for the alpha parameter: {biasr:.2f}')\n",
        "\n",
        "#rmse\n",
        "rmse = metrics.mean_squared_error(a_true, a_pred, squared=False)\n",
        "print(f'RMSE for the alpha parameter: {rmse:.2f}')\n",
        "\n",
        "#pcc\n",
        "pcc = np.corrcoef(a_true, a_pred)[0, 1]\n",
        "print(f'PCC for the alpha parameter: {pcc:.2f}')"
      ]
    },
    {
      "cell_type": "code",
      "execution_count": null,
      "metadata": {},
      "outputs": [
        {
          "name": "stdout",
          "output_type": "stream",
          "text": [
            "Biasr for the beta parameter: -0.36\n",
            "RMSE for the beta parameter: 11.57\n",
            "PCC for the beta parameter: 0.37\n"
          ]
        }
      ],
      "source": [
        "# calculate the biasr for the BETA parameter\n",
        "\n",
        "b_true = parameters_test[duration]['beta'].to_numpy()\n",
        "b_pred = dist_test.concentration0.numpy().ravel()\n",
        "\n",
        "# calculate the biasr\n",
        "biasr = ((b_true - b_pred) / b_true).mean()\n",
        "print(f'Biasr for the beta parameter: {biasr:.2f}')\n",
        "\n",
        "#rmse\n",
        "rmse = metrics.mean_squared_error(b_true, b_pred, squared=False)\n",
        "print(f'RMSE for the beta parameter: {rmse:.2f}')\n",
        "\n",
        "#pcc\n",
        "pcc = np.corrcoef(b_true, b_pred)[0, 1]\n",
        "print(f'PCC for the beta parameter: {pcc:.2f}')"
      ]
    }
  ],
  "metadata": {
    "accelerator": "GPU",
    "colab": {
      "gpuType": "T4",
      "provenance": []
    },
    "kernelspec": {
      "display_name": "Python 3",
      "name": "python3"
    },
    "language_info": {
      "codemirror_mode": {
        "name": "ipython",
        "version": 3
      },
      "file_extension": ".py",
      "mimetype": "text/x-python",
      "name": "python",
      "nbconvert_exporter": "python",
      "pygments_lexer": "ipython3",
      "version": "3.9.4"
    }
  },
  "nbformat": 4,
  "nbformat_minor": 0
}
